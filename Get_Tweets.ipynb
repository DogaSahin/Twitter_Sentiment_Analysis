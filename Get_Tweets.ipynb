{
  "nbformat": 4,
  "nbformat_minor": 0,
  "metadata": {
    "colab": {
      "name": "Get_Tweets.ipynb",
      "provenance": [],
      "collapsed_sections": [],
      "toc_visible": true,
      "authorship_tag": "ABX9TyObkG+y8eZFhgT7JH4QbCn2"
    },
    "kernelspec": {
      "name": "python3",
      "display_name": "Python 3"
    },
    "language_info": {
      "name": "python"
    }
  },
  "cells": [
    {
      "cell_type": "markdown",
      "metadata": {
        "id": "-2uOVedzIavT"
      },
      "source": [
        "# This notebook is for getting tweets from Twitter"
      ]
    },
    {
      "cell_type": "markdown",
      "metadata": {
        "id": "2xtse4S5Isb3"
      },
      "source": [
        "Importing packages\n"
      ]
    },
    {
      "cell_type": "code",
      "metadata": {
        "id": "A4TeVBKEIr-o"
      },
      "source": [
        "!pip install tweepy\n",
        "!pip install textblob\n",
        "!pip install preprocessor\n",
        "!pip install statistics"
      ],
      "execution_count": null,
      "outputs": []
    },
    {
      "cell_type": "code",
      "metadata": {
        "id": "mAEcaDl6IX5n"
      },
      "source": [
        "import tweepy as tw\n",
        "import textblob\n",
        "import preprocessor\n",
        "import statistics\n",
        "import numpy as np\n",
        "import pandas as pd\n",
        "from typing import List\n",
        "import os\n",
        "from tqdm import tqdm, notebook\n",
        "\n",
        "pd.set_option('display.max_columns', None)\n",
        "pd.set_option('display.max_rows', None)\n",
        "pd.set_option('display.max_colwidth', None)\n",
        "pd.set_option('display.width', None)"
      ],
      "execution_count": 2,
      "outputs": []
    },
    {
      "cell_type": "markdown",
      "metadata": {
        "id": "6M-xYoznI-Xk"
      },
      "source": [
        "Twitter API authentication"
      ]
    },
    {
      "cell_type": "code",
      "metadata": {
        "colab": {
          "base_uri": "https://localhost:8080/"
        },
        "id": "MMIjh5RXI7Fj",
        "outputId": "4f0cdbc9-ee6c-4cc8-a1ca-8cc24d965341"
      },
      "source": [
        "api_key = \"zs1VrItXow1kXKZhNtnbn8OQD\"\n",
        "api_secret_key = \"CW47HJK9SnYjJTNVsMMdCfyjK0x3N8hKFTAXCSaTbpmqBMMMMI\"\n",
        "access_token = \"1206982141172764672-3hFfVWIWYzz8dEuJnGnszPdhGY5FEE\"\n",
        "access_token_secret = \"X7IXHwBdXKAix3BdmlZ9mhWSxXfB9OPFQwGstT7dSIMaa\"\n",
        "Bearer_token: \"AAAAAAAAAAAAAAAAAAAAAMYGNwEAAAAAOcxExg4tCZGNHJ9tiUlvK3FsM58%3DOPbPEUBUDSag04nkiHSf8JWAdts7qkC34GUgeFNKrRXDk2MDMn\"\n",
        "\n",
        "auth = tw.OAuthHandler(api_key, api_secret_key)\n",
        "auth.set_access_token(access_token, access_token_secret)\n",
        "api = tw.API(auth, wait_on_rate_limit=True)\n",
        "\n",
        "try:\n",
        "    api.verify_credentials()\n",
        "    print(\"Authentication OK\")\n",
        "except:\n",
        "    print(\"Error during authentication\")"
      ],
      "execution_count": 3,
      "outputs": [
        {
          "output_type": "stream",
          "text": [
            "Authentication OK\n"
          ],
          "name": "stdout"
        }
      ]
    },
    {
      "cell_type": "markdown",
      "metadata": {
        "id": "H4XvrSNiJNSz"
      },
      "source": [
        "# Tweets query\n",
        "\n"
      ]
    },
    {
      "cell_type": "markdown",
      "metadata": {
        "id": "jE-_4S61zJ1h"
      },
      "source": [
        "Searching and obtaining tweets with a specific query"
      ]
    },
    {
      "cell_type": "code",
      "metadata": {
        "id": "O7MJZO5_vlel"
      },
      "source": [
        "# query attributes\n",
        "search_words = \"#covid19 -filter:retweets\"\n",
        "date_since = \"2021-03-01\"\n",
        "\n",
        "# Collect tweets\n",
        "tweets = tw.Cursor(api.search,\n",
        "              q=search_words,\n",
        "              lang=\"en\",\n",
        "              since=date_since).items(1000)"
      ],
      "execution_count": 4,
      "outputs": []
    },
    {
      "cell_type": "code",
      "metadata": {
        "colab": {
          "base_uri": "https://localhost:8080/"
        },
        "id": "xO_a3FzQvvUj",
        "outputId": "71ec5ef2-f7e3-446c-8178-19edf64cbdf4"
      },
      "source": [
        "tweets_copy = []\n",
        "for tweet in tqdm(tweets):\n",
        "     tweets_copy.append(tweet)\n",
        "     \n",
        "print(f\"new tweets retrieved: {len(tweets_copy)}\")"
      ],
      "execution_count": 5,
      "outputs": [
        {
          "output_type": "stream",
          "text": [
            "1000it [00:16, 62.04it/s]"
          ],
          "name": "stderr"
        },
        {
          "output_type": "stream",
          "text": [
            "new tweets retrieved: 1000\n"
          ],
          "name": "stdout"
        },
        {
          "output_type": "stream",
          "text": [
            "\n"
          ],
          "name": "stderr"
        }
      ]
    },
    {
      "cell_type": "markdown",
      "metadata": {
        "id": "BZDXALzZzHdh"
      },
      "source": [
        "Converting the dataset into CSV format"
      ]
    },
    {
      "cell_type": "code",
      "metadata": {
        "colab": {
          "base_uri": "https://localhost:8080/",
          "height": 837
        },
        "id": "GeXykkO0zB6Z",
        "outputId": "72ec25eb-8989-4613-bc3f-c8389aa6d098"
      },
      "source": [
        "tweets_df = pd.DataFrame()\n",
        "for tweet in tqdm(tweets_copy):\n",
        "    hashtags = []\n",
        "    try:\n",
        "        for hashtag in tweet.entities[\"hashtags\"]:\n",
        "            hashtags.append(hashtag[\"text\"])\n",
        "        text = api.get_status(id=tweet.id, tweet_mode='extended').full_text\n",
        "    except:\n",
        "        pass\n",
        "    tweets_df = tweets_df.append(pd.DataFrame({'user_name': tweet.user.name, \n",
        "                                               'user_location': tweet.user.location,\\\n",
        "                                               'user_description': tweet.user.description,\n",
        "                                               'user_created': tweet.user.created_at,\n",
        "                                               'user_followers': tweet.user.followers_count,\n",
        "                                               'user_friends': tweet.user.friends_count,\n",
        "                                               'user_favourites': tweet.user.favourites_count,\n",
        "                                               'user_verified': tweet.user.verified,\n",
        "                                               'date': tweet.created_at,\n",
        "                                               'text': text, \n",
        "                                               'hashtags': [hashtags if hashtags else None],\n",
        "                                               'source': tweet.source,\n",
        "                                               'is_retweet': tweet.retweeted}, index=[0]))\n",
        "    \n",
        "    \n",
        "tweets_df.head()"
      ],
      "execution_count": 6,
      "outputs": [
        {
          "output_type": "stream",
          "text": [
            "100%|██████████| 1000/1000 [12:59<00:00,  1.28it/s]\n"
          ],
          "name": "stderr"
        },
        {
          "output_type": "execute_result",
          "data": {
            "text/html": [
              "<div>\n",
              "<style scoped>\n",
              "    .dataframe tbody tr th:only-of-type {\n",
              "        vertical-align: middle;\n",
              "    }\n",
              "\n",
              "    .dataframe tbody tr th {\n",
              "        vertical-align: top;\n",
              "    }\n",
              "\n",
              "    .dataframe thead th {\n",
              "        text-align: right;\n",
              "    }\n",
              "</style>\n",
              "<table border=\"1\" class=\"dataframe\">\n",
              "  <thead>\n",
              "    <tr style=\"text-align: right;\">\n",
              "      <th></th>\n",
              "      <th>user_name</th>\n",
              "      <th>user_location</th>\n",
              "      <th>user_description</th>\n",
              "      <th>user_created</th>\n",
              "      <th>user_followers</th>\n",
              "      <th>user_friends</th>\n",
              "      <th>user_favourites</th>\n",
              "      <th>user_verified</th>\n",
              "      <th>date</th>\n",
              "      <th>text</th>\n",
              "      <th>hashtags</th>\n",
              "      <th>source</th>\n",
              "      <th>is_retweet</th>\n",
              "    </tr>\n",
              "  </thead>\n",
              "  <tbody>\n",
              "    <tr>\n",
              "      <th>0</th>\n",
              "      <td>Covid Waves - Barbara Volkwyn</td>\n",
              "      <td>South Africa</td>\n",
              "      <td>No followers requested. The volume of tweets will irritate you. Thank you. I am building up tweets for historical purposes.</td>\n",
              "      <td>2020-09-10 17:43:54</td>\n",
              "      <td>105</td>\n",
              "      <td>180</td>\n",
              "      <td>6512</td>\n",
              "      <td>False</td>\n",
              "      <td>2021-06-01 09:02:34</td>\n",
              "      <td>#SAPS Cops told they’ll face attempted murder charges should they report for duty after testing positive for Covid-19 \\nhttps://t.co/lMXoOGD3Md \\n#COVID19 #COVID19SA #ThirdWave</td>\n",
              "      <td>[SAPS]</td>\n",
              "      <td>Twitter Web App</td>\n",
              "      <td>False</td>\n",
              "    </tr>\n",
              "    <tr>\n",
              "      <th>0</th>\n",
              "      <td>ET Edge</td>\n",
              "      <td>India</td>\n",
              "      <td>ET Edge is an Economic Times Initiative, founded to empower industries &amp; segments by sharing critical business knowledge through strategic conferences &amp; summits</td>\n",
              "      <td>2013-10-22 11:35:04</td>\n",
              "      <td>4502</td>\n",
              "      <td>452</td>\n",
              "      <td>1894</td>\n",
              "      <td>False</td>\n",
              "      <td>2021-06-01 09:02:34</td>\n",
              "      <td>Come, be a part of the august audience and join us at the virtual summit on 18th June 2021.\\n\\nBook your seat now: https://t.co/PuTFCyWhhD\\n\\n#SmartManufacturing #Covid19 #automation #Robotics #aitechnology #manufacturing #ai #artificialintelligence #augmentedreality #digital</td>\n",
              "      <td>None</td>\n",
              "      <td>Twitter Web App</td>\n",
              "      <td>False</td>\n",
              "    </tr>\n",
              "    <tr>\n",
              "      <th>0</th>\n",
              "      <td>Tag My School Magazine</td>\n",
              "      <td>Ekurhuleni</td>\n",
              "      <td>Rural and Township Schools Magazine that enhances the culture of learning by profiling it as a cool lifestyle.</td>\n",
              "      <td>2017-05-05 11:14:24</td>\n",
              "      <td>643</td>\n",
              "      <td>1272</td>\n",
              "      <td>510</td>\n",
              "      <td>False</td>\n",
              "      <td>2021-06-01 09:02:30</td>\n",
              "      <td>LGBTQI Activist on the verge of glory read more:\\nhttps://t.co/8B73kKCF6S\\n#NaomiOsaka #COVID19 #mentalhealth #newmonth #LGBTQ #loveislove #HappyPrideMonth2021 #HappyPride2021</td>\n",
              "      <td>[NaomiOsaka, COVID19, mentalhealth]</td>\n",
              "      <td>Twitter for Android</td>\n",
              "      <td>False</td>\n",
              "    </tr>\n",
              "    <tr>\n",
              "      <th>0</th>\n",
              "      <td>Nine Dragons</td>\n",
              "      <td>Kowloon</td>\n",
              "      <td>I am Kowloon, the Dark Side of Hong Kong. The place where you realise that Blade Runner is basically real, right here, right now.</td>\n",
              "      <td>2017-12-22 03:29:19</td>\n",
              "      <td>399</td>\n",
              "      <td>143</td>\n",
              "      <td>2077</td>\n",
              "      <td>False</td>\n",
              "      <td>2021-06-01 09:02:28</td>\n",
              "      <td>Vaccine progress:\\nLooking at the progress in the countries with the most known #COVID19 cases, plus Hong Kong &amp;amp; China. https://t.co/pU89E5sWUj</td>\n",
              "      <td>[COVID19]</td>\n",
              "      <td>Twitter Web App</td>\n",
              "      <td>False</td>\n",
              "    </tr>\n",
              "    <tr>\n",
              "      <th>0</th>\n",
              "      <td>Rajesh Kshitij</td>\n",
              "      <td>Hyderabad, India</td>\n",
              "      <td></td>\n",
              "      <td>2010-07-25 10:45:13</td>\n",
              "      <td>557</td>\n",
              "      <td>1043</td>\n",
              "      <td>5097</td>\n",
              "      <td>False</td>\n",
              "      <td>2021-06-01 09:02:25</td>\n",
              "      <td>#HimachalPradesh - 155 New #COVID19 cases, 1878 Recoveries &amp;amp; 16 Deaths reported in State Today till 2PM. Now Total cases in state rises to 1,90,485 including 1,75,438 Recovered,11882 Active Cases &amp;amp; 3143 Fatalities- Health Dept\\n#coronavirus @News18MP @News18CG #CoronavirusIndia https://t.co/eLVbyAJj1M</td>\n",
              "      <td>[HimachalPradesh, COVID19]</td>\n",
              "      <td>Twitter for Android</td>\n",
              "      <td>False</td>\n",
              "    </tr>\n",
              "  </tbody>\n",
              "</table>\n",
              "</div>"
            ],
            "text/plain": [
              "                       user_name     user_location  \\\n",
              "0  Covid Waves - Barbara Volkwyn      South Africa   \n",
              "0                        ET Edge             India   \n",
              "0         Tag My School Magazine        Ekurhuleni   \n",
              "0                   Nine Dragons           Kowloon   \n",
              "0                 Rajesh Kshitij  Hyderabad, India   \n",
              "\n",
              "                                                                                                                                                   user_description  \\\n",
              "0                                       No followers requested. The volume of tweets will irritate you. Thank you. I am building up tweets for historical purposes.   \n",
              "0  ET Edge is an Economic Times Initiative, founded to empower industries & segments by sharing critical business knowledge through strategic conferences & summits   \n",
              "0                                                    Rural and Township Schools Magazine that enhances the culture of learning by profiling it as a cool lifestyle.   \n",
              "0                                 I am Kowloon, the Dark Side of Hong Kong. The place where you realise that Blade Runner is basically real, right here, right now.   \n",
              "0                                                                                                                                                                     \n",
              "\n",
              "         user_created  user_followers  user_friends  user_favourites  \\\n",
              "0 2020-09-10 17:43:54             105           180             6512   \n",
              "0 2013-10-22 11:35:04            4502           452             1894   \n",
              "0 2017-05-05 11:14:24             643          1272              510   \n",
              "0 2017-12-22 03:29:19             399           143             2077   \n",
              "0 2010-07-25 10:45:13             557          1043             5097   \n",
              "\n",
              "   user_verified                date  \\\n",
              "0          False 2021-06-01 09:02:34   \n",
              "0          False 2021-06-01 09:02:34   \n",
              "0          False 2021-06-01 09:02:30   \n",
              "0          False 2021-06-01 09:02:28   \n",
              "0          False 2021-06-01 09:02:25   \n",
              "\n",
              "                                                                                                                                                                                                                                                                                                                     text  \\\n",
              "0                                                                                                                                        #SAPS Cops told they’ll face attempted murder charges should they report for duty after testing positive for Covid-19 \\nhttps://t.co/lMXoOGD3Md \\n#COVID19 #COVID19SA #ThirdWave   \n",
              "0                                    Come, be a part of the august audience and join us at the virtual summit on 18th June 2021.\\n\\nBook your seat now: https://t.co/PuTFCyWhhD\\n\\n#SmartManufacturing #Covid19 #automation #Robotics #aitechnology #manufacturing #ai #artificialintelligence #augmentedreality #digital   \n",
              "0                                                                                                                                         LGBTQI Activist on the verge of glory read more:\\nhttps://t.co/8B73kKCF6S\\n#NaomiOsaka #COVID19 #mentalhealth #newmonth #LGBTQ #loveislove #HappyPrideMonth2021 #HappyPride2021   \n",
              "0                                                                                                                                                                     Vaccine progress:\\nLooking at the progress in the countries with the most known #COVID19 cases, plus Hong Kong &amp; China. https://t.co/pU89E5sWUj   \n",
              "0  #HimachalPradesh - 155 New #COVID19 cases, 1878 Recoveries &amp; 16 Deaths reported in State Today till 2PM. Now Total cases in state rises to 1,90,485 including 1,75,438 Recovered,11882 Active Cases &amp; 3143 Fatalities- Health Dept\\n#coronavirus @News18MP @News18CG #CoronavirusIndia https://t.co/eLVbyAJj1M   \n",
              "\n",
              "                              hashtags               source  is_retweet  \n",
              "0                               [SAPS]      Twitter Web App       False  \n",
              "0                                 None      Twitter Web App       False  \n",
              "0  [NaomiOsaka, COVID19, mentalhealth]  Twitter for Android       False  \n",
              "0                            [COVID19]      Twitter Web App       False  \n",
              "0           [HimachalPradesh, COVID19]  Twitter for Android       False  "
            ]
          },
          "metadata": {
            "tags": []
          },
          "execution_count": 6
        }
      ]
    },
    {
      "cell_type": "markdown",
      "metadata": {
        "id": "-XSvR_OG23pb"
      },
      "source": [
        "Clear the duplicates if there are any"
      ]
    },
    {
      "cell_type": "code",
      "metadata": {
        "colab": {
          "base_uri": "https://localhost:8080/"
        },
        "id": "Fcxa9VuO0K_N",
        "outputId": "c7a29872-5df3-4831-db7c-8a0f355800c9"
      },
      "source": [
        "tweets_df.drop_duplicates(subset = [\"user_name\", \"date\", \"text\"], inplace=True)\n",
        "print(f\"all tweets: {tweets_df.shape}\")"
      ],
      "execution_count": 7,
      "outputs": [
        {
          "output_type": "stream",
          "text": [
            "all tweets: (1000, 13)\n"
          ],
          "name": "stdout"
        }
      ]
    },
    {
      "cell_type": "markdown",
      "metadata": {
        "id": "QwhSy4Zm3Bw_"
      },
      "source": [
        "Export the data"
      ]
    },
    {
      "cell_type": "code",
      "metadata": {
        "id": "fc0WOb--28Tc"
      },
      "source": [
        "tweets_df.to_csv(\"covid19_tweets.csv\", index=False)"
      ],
      "execution_count": 8,
      "outputs": []
    }
  ]
}