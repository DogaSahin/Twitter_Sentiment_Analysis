{
  "nbformat": 4,
  "nbformat_minor": 0,
  "metadata": {
    "colab": {
      "name": "Get_Tweets.ipynb",
      "provenance": [],
      "authorship_tag": "ABX9TyM2zqoPWj8deHFBW1DttXgo",
      "include_colab_link": true
    },
    "kernelspec": {
      "name": "python3",
      "display_name": "Python 3"
    },
    "language_info": {
      "name": "python"
    }
  },
  "cells": [
    {
      "cell_type": "markdown",
      "metadata": {
        "id": "view-in-github",
        "colab_type": "text"
      },
      "source": [
        "<a href=\"https://colab.research.google.com/github/DogaSahin/Twitter_Sentiment_Analysis/blob/main/Get_Tweets.ipynb\" target=\"_parent\"><img src=\"https://colab.research.google.com/assets/colab-badge.svg\" alt=\"Open In Colab\"/></a>"
      ]
    },
    {
      "cell_type": "markdown",
      "metadata": {
        "id": "-2uOVedzIavT"
      },
      "source": [
        "# This notebook is for getting tweets from twitter"
      ]
    },
    {
      "cell_type": "markdown",
      "metadata": {
        "id": "2xtse4S5Isb3"
      },
      "source": [
        "Importing needed libraries"
      ]
    },
    {
      "cell_type": "code",
      "metadata": {
        "id": "A4TeVBKEIr-o"
      },
      "source": [
        "!pip install tweepy\n",
        "!pip install textblob\n",
        "!pip install preprocessor\n",
        "!pip install statistics"
      ],
      "execution_count": null,
      "outputs": []
    },
    {
      "cell_type": "code",
      "metadata": {
        "id": "mAEcaDl6IX5n"
      },
      "source": [
        "import tweepy as tw\n",
        "import textblob\n",
        "import preprocessor\n",
        "import statistics\n",
        "import numpy as np\n",
        "import pandas as pd\n",
        "from typing import List"
      ],
      "execution_count": 2,
      "outputs": []
    },
    {
      "cell_type": "markdown",
      "metadata": {
        "id": "6M-xYoznI-Xk"
      },
      "source": [
        "Cheking if connection is okey"
      ]
    },
    {
      "cell_type": "code",
      "metadata": {
        "colab": {
          "base_uri": "https://localhost:8080/"
        },
        "id": "MMIjh5RXI7Fj",
        "outputId": "c21edaa8-29c2-40af-ca4c-044d6d8dfd82"
      },
      "source": [
        "api_key = \"zs1VrItXow1kXKZhNtnbn8OQD\"\n",
        "api_secret_key = \"CW47HJK9SnYjJTNVsMMdCfyjK0x3N8hKFTAXCSaTbpmqBMMMMI\"\n",
        "access_token = \"1206982141172764672-3hFfVWIWYzz8dEuJnGnszPdhGY5FEE\"\n",
        "access_token_secret = \"X7IXHwBdXKAix3BdmlZ9mhWSxXfB9OPFQwGstT7dSIMaa\"\n",
        "Bearer_token: \"AAAAAAAAAAAAAAAAAAAAAMYGNwEAAAAAOcxExg4tCZGNHJ9tiUlvK3FsM58%3DOPbPEUBUDSag04nkiHSf8JWAdts7qkC34GUgeFNKrRXDk2MDMn\"\n",
        "\n",
        "auth = tw.OAuthHandler(api_key, api_secret_key)\n",
        "auth.set_access_token(access_token, access_token_secret)\n",
        "api = tw.API(auth, wait_on_rate_limit=True)\n",
        "\n",
        "try:\n",
        "    api.verify_credentials()\n",
        "    print(\"Authentication OK\")\n",
        "except:\n",
        "    print(\"Error during authentication\")"
      ],
      "execution_count": 3,
      "outputs": [
        {
          "output_type": "stream",
          "text": [
            "Authentication OK\n"
          ],
          "name": "stdout"
        }
      ]
    },
    {
      "cell_type": "markdown",
      "metadata": {
        "id": "H4XvrSNiJNSz"
      },
      "source": [
        "Getting tweets according to keywords and time\n"
      ]
    },
    {
      "cell_type": "code",
      "metadata": {
        "colab": {
          "base_uri": "https://localhost:8080/"
        },
        "id": "kKuv5UibJFXX",
        "outputId": "13ed7a5f-7ca9-450c-debc-241c51882ac6"
      },
      "source": [
        "#TODO : find a way to getting tweets by their time\n",
        "\n",
        "def get_tweets(keyword: str)->List[str]:\n",
        "  all_tweets = []\n",
        "  for tweet in tw.Cursor(api.search, q = keyword, tweet_mode = 'extended',lang='en',geo='48.136353,11.575004,25km').items(10):\n",
        "    all_tweets.append(tweet.full_text)\n",
        "\n",
        "  return all_tweets\n",
        "\n",
        "keywords = [\"covid\",\"coronavirus\",\"covid19\"]\n",
        "get_tweets(keywords)"
      ],
      "execution_count": 5,
      "outputs": [
        {
          "output_type": "execute_result",
          "data": {
            "text/plain": [
              "['RT @LawrenceSellin: #COVID19 is the product of policies and actions undertaken by the Chinese Communist Party, a form of “Opportunistic Bio…',\n",
              " '📰 Ultime news - Parole chiave\\n\\nCovid19 #Covid19\\n2021 #2021\\nCOVID19 #COVID19\\nCoronavirus #Coronavirus\\nApril #April\\nCovid #Covid\\nVaccine #Vaccine\\nLockdown #Lockdown\\nTime #Time\\nYour #Your\\n\\n#NewsByGatfil https://t.co/LudL03jYfI',\n",
              " '@GavinNewsom I LIKE THE SOUND OF THE \"ONE &amp; DONE\" shot!!  #COVID19 #COVID #coronavirus #thursdaymorning #ThursdayThoughts',\n",
              " 'April 1 #COVID19 Update\\nCounty cases from positive lab tests: 8.899 (78 additional, most since 12/12/20)\\nCounty cases requiring hospital admittance: 323 (2 additional)\\nCounty deaths from virus: 41\\nData dashboard: https://t.co/sFy8EfFOYC\\nVaccine info: https://t.co/saWzCFdUO8 https://t.co/bCXV61hWjc',\n",
              " 'New COVID-19 Data at 2021-04-01 12:00:01 pm EDT #Coronavirus #COVID19 #COVID_19 https://t.co/Pz0D9zPOaa',\n",
              " 'CDC recommends all travelers, both domestic and international, get a COVID-19 viral test 1-3 days before travel:\\n#GetTested #COVID19 \\nCOVID-19 and Your Health https://t.co/zYeySL0bOD',\n",
              " 'RT @Rajendra1857: Maharashtra reports a record 43,183 new #COVID19 cases on Thursday and 249 deaths. #Covid_19 #coronavirus #coronavirusind…',\n",
              " 'RT @PAHealthDept: #COVID19 Update (as of 4/1/21 at 12:00 am):\\n• 3,893 additional positive cases of COVID-19\\n• 1,028,750 total cases statewi…',\n",
              " \"#ThursdayThoughts: here's a link to the @KState study confirming that #mosquitoes DO NOT transmit the virus that causes #COVID19. Thanks to our friends at the @EntsocAmerica for publishing it. \\n\\nhttps://t.co/9uO8HlY5nX\",\n",
              " 'RT @CDCgov: Substance use disorders can make you more likely to get severely ill from #COVID19. People who use drugs may also live with con…']"
            ]
          },
          "metadata": {
            "tags": []
          },
          "execution_count": 5
        }
      ]
    },
    {
      "cell_type": "markdown",
      "metadata": {
        "id": "CMRam8B5LWIA"
      },
      "source": [
        "Cleaning the raw data and making it a proper test dataset"
      ]
    },
    {
      "cell_type": "code",
      "metadata": {
        "id": "tmnRvXFDLTvi"
      },
      "source": [
        "#TODO"
      ],
      "execution_count": null,
      "outputs": []
    }
  ]
}