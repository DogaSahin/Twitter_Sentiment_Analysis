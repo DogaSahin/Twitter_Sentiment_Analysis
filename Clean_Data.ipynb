{
  "nbformat": 4,
  "nbformat_minor": 0,
  "metadata": {
    "colab": {
      "name": "Clean_Data.ipynb",
      "provenance": [],
      "authorship_tag": "ABX9TyNu3i6QVttGrmyGpK3CTgwa"
    },
    "kernelspec": {
      "name": "python3",
      "display_name": "Python 3"
    },
    "language_info": {
      "name": "python"
    }
  },
  "cells": [
    {
      "cell_type": "markdown",
      "metadata": {
        "id": "F3GNSvgWGlTd"
      },
      "source": [
        "This notebook contains code for the cleaning the raw data obtained from the Twitter query."
      ]
    },
    {
      "cell_type": "code",
      "metadata": {
        "id": "QF3FIGtXG7BQ"
      },
      "source": [
        "!pip install nltk"
      ],
      "execution_count": null,
      "outputs": []
    },
    {
      "cell_type": "markdown",
      "metadata": {
        "id": "8yG6FT9dHXcj"
      },
      "source": [
        "Importing Libraries"
      ]
    },
    {
      "cell_type": "code",
      "metadata": {
        "id": "zq2ZyPRqGg9K"
      },
      "source": [
        "import re\n",
        "import nltk\n",
        "import string\n",
        "from nltk.corpus import stopwords\n",
        "from nltk.stem import PorterStemmer \n",
        "from nltk.tokenize import RegexpTokenizer\n",
        "\n",
        "import pandas as pd\n",
        "import numpy as np\n",
        "\n",
        "nltk.download('wordnet')"
      ],
      "execution_count": null,
      "outputs": []
    },
    {
      "cell_type": "markdown",
      "metadata": {
        "id": "I-GONMgcHaeK"
      },
      "source": [
        "Getting the data needs to be cleaned"
      ]
    },
    {
      "cell_type": "code",
      "metadata": {
        "colab": {
          "base_uri": "https://localhost:8080/"
        },
        "id": "y9DqrEQkHPdo",
        "outputId": "340d5f2b-421a-483c-b20d-5848fdcdece7"
      },
      "source": [
        "data = pd.read_csv(\"covid19_tweets.csv\", encoding = \"ISO-8859-1\", engine=\"python\")\n",
        "print(data.head())"
      ],
      "execution_count": 2,
      "outputs": [
        {
          "output_type": "stream",
          "text": [
            "                       user_name  ... is_retweet\n",
            "0  Covid Waves - Barbara Volkwyn  ...      False\n",
            "1                        ET Edge  ...      False\n",
            "2         Tag My School Magazine  ...      False\n",
            "3                   Nine Dragons  ...      False\n",
            "4                 Rajesh Kshitij  ...      False\n",
            "\n",
            "[5 rows x 13 columns]\n"
          ],
          "name": "stdout"
        }
      ]
    },
    {
      "cell_type": "markdown",
      "metadata": {
        "id": "Q51yp1QXIsdF"
      },
      "source": [
        "Only text data is needed for the sentiment analysis"
      ]
    },
    {
      "cell_type": "code",
      "metadata": {
        "colab": {
          "base_uri": "https://localhost:8080/"
        },
        "id": "o8BHpxjHIXbg",
        "outputId": "8ecfe494-7826-4ff3-9246-b435adba3f91"
      },
      "source": [
        "data=data[['text']]\n",
        "data['text']=data['text'].str.lower() # all tweets cconverted to the lowercase for working better\n",
        "print(data.head())"
      ],
      "execution_count": 3,
      "outputs": [
        {
          "output_type": "stream",
          "text": [
            "                                                text\n",
            "0  #saps cops told theyâll face attempted murde...\n",
            "1  come, be a part of the august audience and joi...\n",
            "2  lgbtqi activist on the verge of glory read mor...\n",
            "3  vaccine progress:\\nlooking at the progress in ...\n",
            "4  #himachalpradesh - 155 new #covid19 cases, 187...\n"
          ],
          "name": "stdout"
        }
      ]
    },
    {
      "cell_type": "markdown",
      "metadata": {
        "id": "JlcZFkFUJIO1"
      },
      "source": [
        "Cleaning and removing punctuations"
      ]
    },
    {
      "cell_type": "code",
      "metadata": {
        "colab": {
          "base_uri": "https://localhost:8080/"
        },
        "id": "sK8aoexaIzMP",
        "outputId": "d4c28168-d033-4185-aeab-be90d0c2bdc1"
      },
      "source": [
        "english_punctuations = string.punctuation\n",
        "punctuations_list = english_punctuations\n",
        "def cleaning_punctuations(text):\n",
        "    translator = str.maketrans('', '', punctuations_list)\n",
        "    return text.translate(translator)\n",
        "data['text']= data['text'].apply(lambda x: cleaning_punctuations(x))\n",
        "data['text'].head()"
      ],
      "execution_count": 4,
      "outputs": [
        {
          "output_type": "execute_result",
          "data": {
            "text/plain": [
              "0    saps cops told theyâll face attempted murder...\n",
              "1    come be a part of the august audience and join...\n",
              "2    lgbtqi activist on the verge of glory read mor...\n",
              "3    vaccine progress\\nlooking at the progress in t...\n",
              "4    himachalpradesh  155 new covid19 cases 1878 re...\n",
              "Name: text, dtype: object"
            ]
          },
          "metadata": {
            "tags": []
          },
          "execution_count": 4
        }
      ]
    },
    {
      "cell_type": "markdown",
      "metadata": {
        "id": "NZpL-sczJRIz"
      },
      "source": [
        "Removing email, URL's & Numeric numbers"
      ]
    },
    {
      "cell_type": "code",
      "metadata": {
        "colab": {
          "base_uri": "https://localhost:8080/"
        },
        "id": "2GDONe-2JZea",
        "outputId": "55b620f5-6e6c-4b29-b0a1-6fd0d554263c"
      },
      "source": [
        "def cleaning_email(data):\n",
        "    return re.sub('@[^\\s]+', ' ', data)\n",
        "\n",
        "data['text']= data['text'].apply(lambda x: cleaning_email(x))\n",
        "\n",
        "def cleaning_URLs(data):\n",
        "    return re.sub('((www\\.[^\\s]+)|(https?://[^\\s]+))',' ',data)\n",
        "\n",
        "data['text'] = data['text'].apply(lambda x: cleaning_URLs(x))\n",
        "\n",
        "\n",
        "def cleaning_numbers(data):\n",
        "    return re.sub('[0-9]+', '', data)\n",
        "\n",
        "data['text'] = data['text'].apply(lambda x: cleaning_numbers(x))\n",
        "data['text'].head()"
      ],
      "execution_count": 5,
      "outputs": [
        {
          "output_type": "execute_result",
          "data": {
            "text/plain": [
              "0    saps cops told theyâll face attempted murder...\n",
              "1    come be a part of the august audience and join...\n",
              "2    lgbtqi activist on the verge of glory read mor...\n",
              "3    vaccine progress\\nlooking at the progress in t...\n",
              "4    himachalpradesh   new covid cases  recoveries ...\n",
              "Name: text, dtype: object"
            ]
          },
          "metadata": {
            "tags": []
          },
          "execution_count": 5
        }
      ]
    },
    {
      "cell_type": "markdown",
      "metadata": {
        "id": "g1Uy_zFvJnKk"
      },
      "source": [
        "Cleaning stopwords from the dataset"
      ]
    },
    {
      "cell_type": "code",
      "metadata": {
        "colab": {
          "base_uri": "https://localhost:8080/"
        },
        "id": "sEg966HHJkdI",
        "outputId": "c2076de6-0dca-4d8b-9bb5-042bacf832b5"
      },
      "source": [
        "nltk.download('stopwords')\n",
        "stop_words = set(stopwords.words('english'))\n",
        "\n",
        "def cleaning_stopwords(text):\n",
        "    return \" \".join([word for word in str(text).split() if word not in stop_words])\n",
        "data['text'] = data['text'].apply(lambda text: cleaning_stopwords(text))\n",
        "data['text'].head()"
      ],
      "execution_count": 6,
      "outputs": [
        {
          "output_type": "stream",
          "text": [
            "[nltk_data] Downloading package stopwords to /root/nltk_data...\n",
            "[nltk_data]   Unzipping corpora/stopwords.zip.\n"
          ],
          "name": "stdout"
        },
        {
          "output_type": "execute_result",
          "data": {
            "text/plain": [
              "0    saps cops told theyâll face attempted murder...\n",
              "1    come part august audience join us virtual summ...\n",
              "2    lgbtqi activist verge glory read httpstcobkkcf...\n",
              "3    vaccine progress looking progress countries kn...\n",
              "4    himachalpradesh new covid cases recoveries amp...\n",
              "Name: text, dtype: object"
            ]
          },
          "metadata": {
            "tags": []
          },
          "execution_count": 6
        }
      ]
    },
    {
      "cell_type": "markdown",
      "metadata": {
        "id": "zrN4oF27JvOm"
      },
      "source": [
        "Tokenization"
      ]
    },
    {
      "cell_type": "code",
      "metadata": {
        "colab": {
          "base_uri": "https://localhost:8080/"
        },
        "id": "Q9510yiIJz47",
        "outputId": "79f38194-e8c5-4855-e6f7-3e4cb855bfcc"
      },
      "source": [
        "tokenizer = RegexpTokenizer(r'\\w+')\n",
        "data['text'] = data['text'].apply(tokenizer.tokenize)\n",
        "data['text'].head()"
      ],
      "execution_count": 7,
      "outputs": [
        {
          "output_type": "execute_result",
          "data": {
            "text/plain": [
              "0    [saps, cops, told, theyâ, ll, face, attempted,...\n",
              "1    [come, part, august, audience, join, us, virtu...\n",
              "2    [lgbtqi, activist, verge, glory, read, httpstc...\n",
              "3    [vaccine, progress, looking, progress, countri...\n",
              "4    [himachalpradesh, new, covid, cases, recoverie...\n",
              "Name: text, dtype: object"
            ]
          },
          "metadata": {
            "tags": []
          },
          "execution_count": 7
        }
      ]
    },
    {
      "cell_type": "markdown",
      "metadata": {
        "id": "7U4Mzn1YJ310"
      },
      "source": [
        "Stemming"
      ]
    },
    {
      "cell_type": "code",
      "metadata": {
        "colab": {
          "base_uri": "https://localhost:8080/"
        },
        "id": "5ZJ4ayNoJ6o1",
        "outputId": "b84f8bf7-e5af-4793-d770-bc4888b4f7cb"
      },
      "source": [
        "st = nltk.PorterStemmer()\n",
        "def stemming_on_text(data):\n",
        "    text = [st.stem(word) for word in data]\n",
        "    return data\n",
        "\n",
        "data['text']= data['text'].apply(lambda x: stemming_on_text(x))\n",
        "data['text'].head()"
      ],
      "execution_count": 8,
      "outputs": [
        {
          "output_type": "execute_result",
          "data": {
            "text/plain": [
              "0    [saps, cops, told, theyâ, ll, face, attempted,...\n",
              "1    [come, part, august, audience, join, us, virtu...\n",
              "2    [lgbtqi, activist, verge, glory, read, httpstc...\n",
              "3    [vaccine, progress, looking, progress, countri...\n",
              "4    [himachalpradesh, new, covid, cases, recoverie...\n",
              "Name: text, dtype: object"
            ]
          },
          "metadata": {
            "tags": []
          },
          "execution_count": 8
        }
      ]
    },
    {
      "cell_type": "markdown",
      "metadata": {
        "id": "-qiE_XQ1J-XZ"
      },
      "source": [
        "Applying Lemmatizer"
      ]
    },
    {
      "cell_type": "code",
      "metadata": {
        "colab": {
          "base_uri": "https://localhost:8080/"
        },
        "id": "wA6EXD-IKBFJ",
        "outputId": "2ffab6e2-a2cf-49bf-ae9a-1455f4b859ae"
      },
      "source": [
        "lm = nltk.WordNetLemmatizer()\n",
        "def lemmatizer_on_text(data):\n",
        "    text = [lm.lemmatize(word) for word in data]\n",
        "    return data\n",
        "\n",
        "data['text'] = data['text'].apply(lambda x: lemmatizer_on_text(x))\n",
        "data['text'].head()"
      ],
      "execution_count": 9,
      "outputs": [
        {
          "output_type": "execute_result",
          "data": {
            "text/plain": [
              "0    [saps, cops, told, theyâ, ll, face, attempted,...\n",
              "1    [come, part, august, audience, join, us, virtu...\n",
              "2    [lgbtqi, activist, verge, glory, read, httpstc...\n",
              "3    [vaccine, progress, looking, progress, countri...\n",
              "4    [himachalpradesh, new, covid, cases, recoverie...\n",
              "Name: text, dtype: object"
            ]
          },
          "metadata": {
            "tags": []
          },
          "execution_count": 9
        }
      ]
    },
    {
      "cell_type": "code",
      "metadata": {
        "id": "mjkMVzsuw3hj"
      },
      "source": [
        "data.to_csv('test.csv')"
      ],
      "execution_count": 10,
      "outputs": []
    }
  ]
}