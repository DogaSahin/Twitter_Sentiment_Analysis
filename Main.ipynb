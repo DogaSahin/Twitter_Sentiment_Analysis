{
  "nbformat": 4,
  "nbformat_minor": 0,
  "metadata": {
    "colab": {
      "name": "Main.ipynb",
      "provenance": [],
      "authorship_tag": "ABX9TyMDeOkKSynpTUFbAfz3g3BY"
    },
    "kernelspec": {
      "name": "python3",
      "display_name": "Python 3"
    }
  },
  "cells": [
    {
      "cell_type": "markdown",
      "metadata": {
        "id": "dhorl27WQmwS"
      },
      "source": [
        "# Training Model & Preparing a proper train/test dataset"
      ]
    },
    {
      "cell_type": "markdown",
      "metadata": {
        "id": "_ejGAW511yeG"
      },
      "source": [
        "In this python notebook we'll get our labeled dataset and train a LSTM network for sentiment analysis and at the end we'll make classifications on the dataset we got from the Twitter."
      ]
    },
    {
      "cell_type": "markdown",
      "metadata": {
        "id": "ge0dYsc10XzI"
      },
      "source": [
        "Kaggle requirements"
      ]
    },
    {
      "cell_type": "code",
      "metadata": {
        "id": "n62QZUVBApZc"
      },
      "source": [
        "!pip install -q kaggle\n",
        "from google.colab import files\n",
        "files.upload()"
      ],
      "execution_count": null,
      "outputs": []
    },
    {
      "cell_type": "code",
      "metadata": {
        "id": "6hzkcukQBXvG"
      },
      "source": [
        "! mkdir ~/.kaggle\n",
        "! cp kaggle.json ~/.kaggle/\n",
        "! chmod 600 ~/.kaggle/kaggle.json\n",
        "!kaggle datasets download -d kazanova/sentiment140\n",
        "! unzip sentiment140.zip -d sample_data"
      ],
      "execution_count": null,
      "outputs": []
    },
    {
      "cell_type": "markdown",
      "metadata": {
        "id": "vx4CCPwoQ1Zs"
      },
      "source": [
        "Importing libraries"
      ]
    },
    {
      "cell_type": "code",
      "metadata": {
        "id": "SHAw4aT9XNPQ"
      },
      "source": [
        "!pip install nltk\n",
        "%tensorflow_version 1.x"
      ],
      "execution_count": null,
      "outputs": []
    },
    {
      "cell_type": "code",
      "metadata": {
        "id": "Qrp4SVxpwfpO"
      },
      "source": [
        "# Evaluation Metrics\n",
        "from sklearn.model_selection import train_test_split\n",
        "from mlxtend.plotting import plot_confusion_matrix\n",
        "from sklearn.metrics import confusion_matrix\n",
        "import matplotlib.pyplot as plt\n",
        "import seaborn as sns\n",
        "import pandas as pd \n",
        "import numpy as np \n",
        "\n",
        "# NLP processes\n",
        "import nltk\n",
        "from nltk.corpus import stopwords\n",
        "from nltk.stem import PorterStemmer \n",
        "from matplotlib import rcParams\n",
        "from collections import Counter\n",
        "from nltk.tokenize import RegexpTokenizer\n",
        "import re\n",
        "import string\n",
        "\n",
        "# Tensorlow Libraries\n",
        "from tensorflow import keras\n",
        "from tensorflow.keras.layers import Dense, LSTM, Dropout, Activation, Embedding\n",
        "from tensorflow.keras.preprocessing.text import Tokenizer\n",
        "from tensorflow.keras.models import load_model, Model, Sequential\n",
        "from tensorflow.keras.preprocessing import sequence\n",
        "from tensorflow.keras import layers, Input\n",
        "from tensorflow.keras.optimizers import RMSprop\n",
        "\n",
        "import warnings\n",
        "warnings.filterwarnings(\"ignore\")\n",
        "\n",
        "nltk.download('wordnet')"
      ],
      "execution_count": null,
      "outputs": []
    },
    {
      "cell_type": "markdown",
      "metadata": {
        "id": "0l75ernM1bIn"
      },
      "source": [
        "# Data Preprocessing"
      ]
    },
    {
      "cell_type": "markdown",
      "metadata": {
        "id": "N76MABuDQ4zy"
      },
      "source": [
        "Loading pre-labeled data"
      ]
    },
    {
      "cell_type": "code",
      "metadata": {
        "id": "mnNSV_Sx4ZN-"
      },
      "source": [
        "data = pd.read_csv(\"sample_data/training.1600000.processed.noemoticon.csv\", encoding = \"ISO-8859-1\", engine=\"python\")\n",
        "data.columns = [\"label\", \"time\", \"date\", \"query\", \"username\", \"text\"]\n",
        "data.head()\n"
      ],
      "execution_count": null,
      "outputs": []
    },
    {
      "cell_type": "markdown",
      "metadata": {
        "id": "mMeLYXUJP8A0"
      },
      "source": [
        "Arranging positive and negative tweets"
      ]
    },
    {
      "cell_type": "code",
      "metadata": {
        "id": "F8C8lKYC5JFV",
        "colab": {
          "base_uri": "https://localhost:8080/",
          "height": 203
        },
        "outputId": "7b10ceef-28b0-4efe-d911-779e9e9644b5"
      },
      "source": [
        "# Selecting the text and label coloumn Assigning 1 to Positive sentment 4\n",
        "data=data[['text','label']]\n",
        "data['label'][data['label']==4]=1\n",
        "\n",
        "# Separating positive and negative tweets\n",
        "positive_data = data[data['label'] == 1]\n",
        "negative_data = data[data['label'] == 0]\n",
        "\n",
        "# taking half of the dataset\n",
        "positive_data = positive_data.iloc[:int(80000)]\n",
        "negative_data = negative_data.iloc[:int(80000)]\n",
        "\n",
        "# Combining positive and negative tweets & making all tweets lowercase so we can work better\n",
        "data = pd.concat([positive_data, negative_data])\n",
        "data['text']=data['text'].str.lower()\n",
        "\n",
        "data['text'].head()\n",
        "data.tail()"
      ],
      "execution_count": 5,
      "outputs": [
        {
          "output_type": "execute_result",
          "data": {
            "text/html": [
              "<div>\n",
              "<style scoped>\n",
              "    .dataframe tbody tr th:only-of-type {\n",
              "        vertical-align: middle;\n",
              "    }\n",
              "\n",
              "    .dataframe tbody tr th {\n",
              "        vertical-align: top;\n",
              "    }\n",
              "\n",
              "    .dataframe thead th {\n",
              "        text-align: right;\n",
              "    }\n",
              "</style>\n",
              "<table border=\"1\" class=\"dataframe\">\n",
              "  <thead>\n",
              "    <tr style=\"text-align: right;\">\n",
              "      <th></th>\n",
              "      <th>text</th>\n",
              "      <th>label</th>\n",
              "    </tr>\n",
              "  </thead>\n",
              "  <tbody>\n",
              "    <tr>\n",
              "      <th>79995</th>\n",
              "      <td>@itsaroy they hurt my feelings when they don't...</td>\n",
              "      <td>0</td>\n",
              "    </tr>\n",
              "    <tr>\n",
              "      <th>79996</th>\n",
              "      <td>excited that josh will be back in erie in an h...</td>\n",
              "      <td>0</td>\n",
              "    </tr>\n",
              "    <tr>\n",
              "      <th>79997</th>\n",
              "      <td>plans of going to the club have been dashed. n...</td>\n",
              "      <td>0</td>\n",
              "    </tr>\n",
              "    <tr>\n",
              "      <th>79998</th>\n",
              "      <td>i hate car washing</td>\n",
              "      <td>0</td>\n",
              "    </tr>\n",
              "    <tr>\n",
              "      <th>79999</th>\n",
              "      <td>cannot actually keep my eyes open.., i feel li...</td>\n",
              "      <td>0</td>\n",
              "    </tr>\n",
              "  </tbody>\n",
              "</table>\n",
              "</div>"
            ],
            "text/plain": [
              "                                                    text  label\n",
              "79995  @itsaroy they hurt my feelings when they don't...      0\n",
              "79996  excited that josh will be back in erie in an h...      0\n",
              "79997  plans of going to the club have been dashed. n...      0\n",
              "79998                                i hate car washing       0\n",
              "79999  cannot actually keep my eyes open.., i feel li...      0"
            ]
          },
          "metadata": {
            "tags": []
          },
          "execution_count": 5
        }
      ]
    },
    {
      "cell_type": "markdown",
      "metadata": {
        "id": "pgRfQNIrRC0r"
      },
      "source": [
        "Cleaning and removing punctuations\n"
      ]
    },
    {
      "cell_type": "code",
      "metadata": {
        "id": "G9LT3HheREq5"
      },
      "source": [
        "english_punctuations = string.punctuation\n",
        "punctuations_list = english_punctuations\n",
        "def cleaning_punctuations(text):\n",
        "    translator = str.maketrans('', '', punctuations_list)\n",
        "    return text.translate(translator)\n",
        "data['text']= data['text'].apply(lambda x: cleaning_punctuations(x))\n",
        "data['text'].head()"
      ],
      "execution_count": null,
      "outputs": []
    },
    {
      "cell_type": "markdown",
      "metadata": {
        "id": "lgpfl4WZSLX6"
      },
      "source": [
        "Removing email, URL's & Numeric numbers\n"
      ]
    },
    {
      "cell_type": "code",
      "metadata": {
        "id": "3LrEUMXXSQiF"
      },
      "source": [
        "# Cleaning email's from the dataset\n",
        "def cleaning_email(data):\n",
        "    return re.sub('@[^\\s]+', ' ', data)\n",
        "\n",
        "data['text']= data['text'].apply(lambda x: cleaning_email(x))\n",
        "\n",
        "\n",
        "# Cleaning URL's from the dataset\n",
        "def cleaning_URLs(data):\n",
        "    return re.sub('((www\\.[^\\s]+)|(https?://[^\\s]+))',' ',data)\n",
        "\n",
        "data['text'] = data['text'].apply(lambda x: cleaning_URLs(x))\n",
        "\n",
        "\n",
        "\n",
        "# Cleaning numeric symbols from the dataset\n",
        "def cleaning_numbers(data):\n",
        "    return re.sub('[0-9]+', '', data)\n",
        "\n",
        "data['text'] = data['text'].apply(lambda x: cleaning_numbers(x))\n",
        "\n",
        "\n",
        "# Checking the dataset to see if it's everything okay\n",
        "data['text'].head()"
      ],
      "execution_count": null,
      "outputs": []
    },
    {
      "cell_type": "markdown",
      "metadata": {
        "id": "goif66ynQIfN"
      },
      "source": [
        "Cleaning stopwords from the dataset"
      ]
    },
    {
      "cell_type": "code",
      "metadata": {
        "id": "gQWmixcYP6Ii",
        "colab": {
          "base_uri": "https://localhost:8080/"
        },
        "outputId": "3fc98c01-6fa1-42a7-f0f7-1558857abb36"
      },
      "source": [
        "nltk.download('stopwords')\n",
        "stop_words = set(stopwords.words('english'))\n",
        "\n",
        "def cleaning_stopwords(text):\n",
        "    return \" \".join([word for word in str(text).split() if word not in stop_words])\n",
        "data['text'] = data['text'].apply(lambda text: cleaning_stopwords(text))\n",
        "data['text'].head()"
      ],
      "execution_count": 8,
      "outputs": [
        {
          "output_type": "stream",
          "text": [
            "[nltk_data] Downloading package stopwords to /root/nltk_data...\n",
            "[nltk_data]   Unzipping corpora/stopwords.zip.\n"
          ],
          "name": "stdout"
        },
        {
          "output_type": "execute_result",
          "data": {
            "text/plain": [
              "799999                    love healthuandpets u guys r best\n",
              "800000    im meeting one besties tonight cant wait girl ...\n",
              "800001    darealsunisakim thanks twitter add sunisa got ...\n",
              "800002    sick really cheap hurts much eat real food plu...\n",
              "800003                        lovesbrooklyn effect everyone\n",
              "Name: text, dtype: object"
            ]
          },
          "metadata": {
            "tags": []
          },
          "execution_count": 8
        }
      ]
    },
    {
      "cell_type": "markdown",
      "metadata": {
        "id": "uDhzhCg3aY6V"
      },
      "source": [
        "tokenization of tweets"
      ]
    },
    {
      "cell_type": "code",
      "metadata": {
        "id": "70Xw1WE2aZ9H",
        "colab": {
          "base_uri": "https://localhost:8080/"
        },
        "outputId": "d3f636d7-8d4f-4960-c7f2-055a2008cdbf"
      },
      "source": [
        "tokenizer = RegexpTokenizer(r'\\w+')\n",
        "data['text'] = data['text'].apply(tokenizer.tokenize)\n",
        "data['text'].head()"
      ],
      "execution_count": 9,
      "outputs": [
        {
          "output_type": "execute_result",
          "data": {
            "text/plain": [
              "799999             [love, healthuandpets, u, guys, r, best]\n",
              "800000    [im, meeting, one, besties, tonight, cant, wai...\n",
              "800001    [darealsunisakim, thanks, twitter, add, sunisa...\n",
              "800002    [sick, really, cheap, hurts, much, eat, real, ...\n",
              "800003                    [lovesbrooklyn, effect, everyone]\n",
              "Name: text, dtype: object"
            ]
          },
          "metadata": {
            "tags": []
          },
          "execution_count": 9
        }
      ]
    },
    {
      "cell_type": "markdown",
      "metadata": {
        "id": "RXLpadr4aebU"
      },
      "source": [
        "Stemming"
      ]
    },
    {
      "cell_type": "code",
      "metadata": {
        "id": "dIFhcOGcafKa",
        "colab": {
          "base_uri": "https://localhost:8080/"
        },
        "outputId": "3eba938d-a735-417e-d6ea-c805528e9db1"
      },
      "source": [
        "st = nltk.PorterStemmer()\n",
        "def stemming_on_text(data):\n",
        "    text = [st.stem(word) for word in data]\n",
        "    return data\n",
        "\n",
        "data['text']= data['text'].apply(lambda x: stemming_on_text(x))\n",
        "data['text'].head()"
      ],
      "execution_count": 10,
      "outputs": [
        {
          "output_type": "execute_result",
          "data": {
            "text/plain": [
              "799999             [love, healthuandpets, u, guys, r, best]\n",
              "800000    [im, meeting, one, besties, tonight, cant, wai...\n",
              "800001    [darealsunisakim, thanks, twitter, add, sunisa...\n",
              "800002    [sick, really, cheap, hurts, much, eat, real, ...\n",
              "800003                    [lovesbrooklyn, effect, everyone]\n",
              "Name: text, dtype: object"
            ]
          },
          "metadata": {
            "tags": []
          },
          "execution_count": 10
        }
      ]
    },
    {
      "cell_type": "markdown",
      "metadata": {
        "id": "98bZskfPhWKP"
      },
      "source": [
        "Applying Lemmatizer"
      ]
    },
    {
      "cell_type": "code",
      "metadata": {
        "id": "s74TZyuohW2E",
        "colab": {
          "base_uri": "https://localhost:8080/"
        },
        "outputId": "754bae80-f026-4e34-e7d8-d7dfe777af9a"
      },
      "source": [
        "lm = nltk.WordNetLemmatizer()\n",
        "def lemmatizer_on_text(data):\n",
        "    text = [lm.lemmatize(word) for word in data]\n",
        "    return data\n",
        "\n",
        "data['text'] = data['text'].apply(lambda x: lemmatizer_on_text(x))\n",
        "data['text'].head()\n"
      ],
      "execution_count": 11,
      "outputs": [
        {
          "output_type": "execute_result",
          "data": {
            "text/plain": [
              "799999             [love, healthuandpets, u, guys, r, best]\n",
              "800000    [im, meeting, one, besties, tonight, cant, wai...\n",
              "800001    [darealsunisakim, thanks, twitter, add, sunisa...\n",
              "800002    [sick, really, cheap, hurts, much, eat, real, ...\n",
              "800003                    [lovesbrooklyn, effect, everyone]\n",
              "Name: text, dtype: object"
            ]
          },
          "metadata": {
            "tags": []
          },
          "execution_count": 11
        }
      ]
    },
    {
      "cell_type": "markdown",
      "metadata": {
        "id": "XjzchkR5jM6C"
      },
      "source": [
        "Data splitting and model building"
      ]
    },
    {
      "cell_type": "code",
      "metadata": {
        "colab": {
          "base_uri": "https://localhost:8080/"
        },
        "id": "cCuxcP2EjMVO",
        "outputId": "a6a15432-3b9f-46ec-a895-1973e8a7935a"
      },
      "source": [
        "max_fatures = 2000\n",
        "tokenizer = Tokenizer(num_words=max_fatures, split=' ')\n",
        "tokenizer.fit_on_texts(data['text'].values)\n",
        "X = tokenizer.texts_to_sequences(data['text'].values)\n",
        "X = sequence.pad_sequences(X)\n",
        "print(X[:2])\n",
        "\n",
        "max_len = 26\n",
        "\n",
        "Y = data.label\n",
        "X_train, X_test, Y_train, Y_test = train_test_split(X,Y, test_size = 0.20, random_state = 42)"
      ],
      "execution_count": 13,
      "outputs": [
        {
          "output_type": "stream",
          "text": [
            "[[  0   0   0   0   0   0   0   0   0   0   0   0   0   0   0   0   0   0\n",
            "    0   0   0  15  20 128 288  97]\n",
            " [  0   0   0   0   0   0   0   0   0   0   0   0   0   0   0   0   0   0\n",
            "    1 512  16  63  12  73 183 242]]\n"
          ],
          "name": "stdout"
        }
      ]
    },
    {
      "cell_type": "markdown",
      "metadata": {
        "id": "WxqhEEpkBJbJ"
      },
      "source": [
        "# TENSORFLOW"
      ]
    },
    {
      "cell_type": "code",
      "metadata": {
        "id": "Hze5zlKKBMjv"
      },
      "source": [
        "def tensorflow_based_model():\n",
        "    inputs = Input(name='inputs',shape=[max_len])\n",
        "    layer = Embedding(2000,50,input_length=max_len)(inputs)\n",
        "    layer = LSTM(64)(layer)\n",
        "    layer = Dense(256,name='FC1')(layer)\n",
        "    layer = Activation('relu')(layer)\n",
        "    layer = Dropout(0.5)(layer)\n",
        "    layer = Dense(1,name='out_layer')(layer)\n",
        "    layer = Activation('sigmoid')(layer)\n",
        "    model = Model(inputs=inputs,outputs=layer) \n",
        "    return model\n"
      ],
      "execution_count": 14,
      "outputs": []
    },
    {
      "cell_type": "code",
      "metadata": {
        "id": "NJmC3uROyS_o",
        "colab": {
          "base_uri": "https://localhost:8080/"
        },
        "outputId": "da591df3-39f4-4296-fddb-5c5072150ed1"
      },
      "source": [
        "model = tensorflow_based_model() # here we are calling the function of created model\n",
        "model.compile(loss='binary_crossentropy',optimizer=RMSprop(),metrics=['accuracy'])\n",
        "model.summary()\n",
        "history=model.fit(X_train,Y_train,batch_size=80,epochs=15, validation_split=0.1)# here we are starting the training of model by feeding the training data\n",
        "print('Training finished !!')\n",
        "accr1 = model.evaluate(X_test,Y_test) #we are starting to test the model here\n",
        "print('Test set\\n  Accuracy: {:0.2f}'.format(accr1[1])) #the accuracy of the model on test data is given below\n"
      ],
      "execution_count": 16,
      "outputs": [
        {
          "output_type": "stream",
          "text": [
            "Model: \"model_1\"\n",
            "_________________________________________________________________\n",
            "Layer (type)                 Output Shape              Param #   \n",
            "=================================================================\n",
            "inputs (InputLayer)          [(None, 26)]              0         \n",
            "_________________________________________________________________\n",
            "embedding_1 (Embedding)      (None, 26, 50)            100000    \n",
            "_________________________________________________________________\n",
            "lstm_1 (LSTM)                (None, 64)                29440     \n",
            "_________________________________________________________________\n",
            "FC1 (Dense)                  (None, 256)               16640     \n",
            "_________________________________________________________________\n",
            "activation_2 (Activation)    (None, 256)               0         \n",
            "_________________________________________________________________\n",
            "dropout_1 (Dropout)          (None, 256)               0         \n",
            "_________________________________________________________________\n",
            "out_layer (Dense)            (None, 1)                 257       \n",
            "_________________________________________________________________\n",
            "activation_3 (Activation)    (None, 1)                 0         \n",
            "=================================================================\n",
            "Total params: 146,337\n",
            "Trainable params: 146,337\n",
            "Non-trainable params: 0\n",
            "_________________________________________________________________\n",
            "Train on 115200 samples, validate on 12800 samples\n",
            "Epoch 1/15\n",
            "115200/115200 [==============================] - 60s 521us/sample - loss: 0.5193 - acc: 0.7409 - val_loss: 0.5019 - val_acc: 0.7501\n",
            "Epoch 2/15\n",
            "115200/115200 [==============================] - 59s 510us/sample - loss: 0.4873 - acc: 0.7645 - val_loss: 0.4928 - val_acc: 0.7580\n",
            "Epoch 3/15\n",
            "115200/115200 [==============================] - 59s 512us/sample - loss: 0.4768 - acc: 0.7698 - val_loss: 0.5002 - val_acc: 0.7612\n",
            "Epoch 4/15\n",
            "115200/115200 [==============================] - 59s 512us/sample - loss: 0.4701 - acc: 0.7745 - val_loss: 0.4956 - val_acc: 0.7598\n",
            "Epoch 5/15\n",
            "115200/115200 [==============================] - 61s 526us/sample - loss: 0.4640 - acc: 0.7778 - val_loss: 0.4958 - val_acc: 0.7608\n",
            "Epoch 6/15\n",
            "115200/115200 [==============================] - 59s 510us/sample - loss: 0.4583 - acc: 0.7822 - val_loss: 0.4940 - val_acc: 0.7604\n",
            "Epoch 7/15\n",
            "115200/115200 [==============================] - 59s 512us/sample - loss: 0.4523 - acc: 0.7862 - val_loss: 0.4956 - val_acc: 0.7589\n",
            "Epoch 8/15\n",
            "115200/115200 [==============================] - 59s 511us/sample - loss: 0.4463 - acc: 0.7894 - val_loss: 0.4968 - val_acc: 0.7614\n",
            "Epoch 9/15\n",
            "115200/115200 [==============================] - 59s 512us/sample - loss: 0.4410 - acc: 0.7923 - val_loss: 0.4969 - val_acc: 0.7559\n",
            "Epoch 10/15\n",
            "115200/115200 [==============================] - 58s 506us/sample - loss: 0.4351 - acc: 0.7948 - val_loss: 0.5101 - val_acc: 0.7523\n",
            "Epoch 11/15\n",
            "115200/115200 [==============================] - 59s 509us/sample - loss: 0.4295 - acc: 0.7996 - val_loss: 0.4995 - val_acc: 0.7577\n",
            "Epoch 12/15\n",
            "115200/115200 [==============================] - 58s 508us/sample - loss: 0.4236 - acc: 0.8027 - val_loss: 0.5082 - val_acc: 0.7565\n",
            "Epoch 13/15\n",
            "115200/115200 [==============================] - 58s 507us/sample - loss: 0.4180 - acc: 0.8062 - val_loss: 0.5146 - val_acc: 0.7525\n",
            "Epoch 14/15\n",
            "115200/115200 [==============================] - 59s 509us/sample - loss: 0.4119 - acc: 0.8091 - val_loss: 0.5238 - val_acc: 0.7524\n",
            "Epoch 15/15\n",
            "115200/115200 [==============================] - 59s 509us/sample - loss: 0.4057 - acc: 0.8128 - val_loss: 0.5247 - val_acc: 0.7533\n",
            "Training finished !!\n",
            "32000/32000 [==============================] - 6s 199us/sample - loss: 0.5197 - acc: 0.7586\n",
            "Test set\n",
            "  Accuracy: 0.76\n"
          ],
          "name": "stdout"
        }
      ]
    },
    {
      "cell_type": "markdown",
      "metadata": {
        "id": "RMvx6Y00pTPk"
      },
      "source": [
        "Confusion Matrix"
      ]
    },
    {
      "cell_type": "code",
      "metadata": {
        "colab": {
          "base_uri": "https://localhost:8080/",
          "height": 726
        },
        "id": "3CkXUZR5MRxW",
        "outputId": "9e04e4fd-abd6-40c0-ca29-2dca48044804"
      },
      "source": [
        "y_pred = model.predict(X_test) \n",
        "y_pred = (y_pred > 0.5) \n",
        "print('\\n')\n",
        "print(\"confusion matrix\")\n",
        "print('\\n')\n",
        "CR=confusion_matrix(Y_test, y_pred)\n",
        "print(CR)\n",
        "print('\\n')\n",
        "\n",
        "fig, ax = plot_confusion_matrix(conf_mat=CR,figsize=(10, 10),\n",
        "                                show_absolute=True,\n",
        "                                show_normed=True,\n",
        "                                colorbar=True)\n",
        "plt.show()"
      ],
      "execution_count": 17,
      "outputs": [
        {
          "output_type": "stream",
          "text": [
            "\n",
            "\n",
            "confusion matrix\n",
            "\n",
            "\n",
            "[[12338  3788]\n",
            " [ 3938 11936]]\n",
            "\n",
            "\n"
          ],
          "name": "stdout"
        },
        {
          "output_type": "display_data",
          "data": {
            "image/png": "[encoded data removed]",
            "text/plain": [
              "<Figure size 720x720 with 2 Axes>"
            ]
          },
          "metadata": {
            "tags": [],
            "needs_background": "light"
          }
        }
      ]
    },
    {
      "cell_type": "markdown",
      "metadata": {
        "id": "DzmZfGx56W01"
      },
      "source": [
        "A quick demonstration of the algorithm to see if it's working properly"
      ]
    },
    {
      "cell_type": "code",
      "metadata": {
        "colab": {
          "base_uri": "https://localhost:8080/"
        },
        "id": "8LZ5AEd46Sn5",
        "outputId": "d27e30aa-2619-4098-dc10-0d3b1ea2bb83"
      },
      "source": [
        "twt = ['covid- 19 getting worse day by day']\n",
        "\n",
        "#vectorizing the tweet by the pre-fitted tokenizer instance\n",
        "twt = tokenizer.texts_to_sequences(twt)\n",
        "print(twt)\n",
        "\n",
        "#padding the tweet to have exactly the same shape as `embedding_2` input\n",
        "twt = sequence.pad_sequences(twt, maxlen=26, dtype='int32', value=0)\n",
        "print(twt)\n",
        "\n",
        "prediction = int(model.predict(twt).round().item())\n",
        "print(prediction)"
      ],
      "execution_count": 18,
      "outputs": [
        {
          "output_type": "stream",
          "text": [
            "[[52, 641, 3, 3]]\n",
            "[[  0   0   0   0   0   0   0   0   0   0   0   0   0   0   0   0   0   0\n",
            "    0   0   0   0  52 641   3   3]]\n",
            "0\n"
          ],
          "name": "stdout"
        }
      ]
    },
    {
      "cell_type": "markdown",
      "metadata": {
        "id": "XdAmwGkkkxlK"
      },
      "source": [
        "# Twitter Data Classification"
      ]
    },
    {
      "cell_type": "markdown",
      "metadata": {
        "id": "uRVx9CBD79QB"
      },
      "source": [
        "Loading the data"
      ]
    },
    {
      "cell_type": "code",
      "metadata": {
        "colab": {
          "base_uri": "https://localhost:8080/"
        },
        "id": "GABvrXOketaf",
        "outputId": "e29a1940-2020-4184-df97-0476d32ec4d4"
      },
      "source": [
        "test_data = data = pd.read_csv(\"test.csv\", encoding = \"ISO-8859-1\", engine=\"python\")\n",
        "print(data.head())"
      ],
      "execution_count": 19,
      "outputs": [
        {
          "output_type": "stream",
          "text": [
            "   Unnamed: 0                                               text\n",
            "0           0  saps cops told theyÃ¢ÂÂll face attempted mur...\n",
            "1           1  come part august audience join us virtual summ...\n",
            "2           2  lgbtqi activist verge glory read httpstcobkkcf...\n",
            "3           3  vaccine progress looking progress countries kn...\n",
            "4           4  himachalpradesh new covid cases recoveries amp...\n"
          ],
          "name": "stdout"
        }
      ]
    },
    {
      "cell_type": "markdown",
      "metadata": {
        "id": "E5t_FvevpOPv"
      },
      "source": [
        "Making the predictions"
      ]
    },
    {
      "cell_type": "code",
      "metadata": {
        "id": "z-7oVk4F7xi7"
      },
      "source": [
        "X=test_data.text\n",
        "\n",
        "twt = tokenizer.texts_to_sequences(X)\n",
        "sequences = tokenizer.texts_to_sequences(X)\n",
        "sequences_matrix = sequence.pad_sequences(twt, maxlen=26, dtype='int32', value=0)\n",
        "\n",
        "y_pred = model.predict(X_test)\n",
        "\n",
        "positives = 0\n",
        "negatives = 0\n",
        "\n",
        "for omer in y_pred: # 0.5 is our threshold\n",
        "  if omer < 0.5:\n",
        "    negatives += 1\n",
        "  elif omer > 0.5:\n",
        "    positives += 1\n"
      ],
      "execution_count": 20,
      "outputs": []
    },
    {
      "cell_type": "code",
      "metadata": {
        "colab": {
          "base_uri": "https://localhost:8080/",
          "height": 248
        },
        "id": "ekdeqYTR77w3",
        "outputId": "4d4fbd87-cbc5-40a7-c779-ba3241d08e05"
      },
      "source": [
        "arr = np.array([positives,negatives])\n",
        "mylabels = [\"positive\", \"negative\"]\n",
        "\n",
        "plt.pie(arr, labels = mylabels)\n",
        "plt.show() "
      ],
      "execution_count": 21,
      "outputs": [
        {
          "output_type": "display_data",
          "data": {
            "image/png": "[encoded data removed]",
            "text/plain": [
              "<Figure size 432x288 with 1 Axes>"
            ]
          },
          "metadata": {
            "tags": []
          }
        }
      ]
    }
  ]
}