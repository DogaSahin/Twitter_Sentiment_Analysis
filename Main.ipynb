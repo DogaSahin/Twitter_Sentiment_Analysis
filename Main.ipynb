{
  "nbformat": 4,
  "nbformat_minor": 0,
  "metadata": {
    "colab": {
      "name": "Main.ipynb",
      "provenance": [],
      "authorship_tag": "ABX9TyPzYOs3OcOZeM3Xz0AD2014",
      "include_colab_link": true
    },
    "kernelspec": {
      "name": "python3",
      "display_name": "Python 3"
    }
  },
  "cells": [
    {
      "cell_type": "markdown",
      "metadata": {
        "id": "view-in-github",
        "colab_type": "text"
      },
      "source": [
        "<a href=\"https://colab.research.google.com/github/DogaSahin/Twitter_Sentiment_Analysis/blob/main/Main.ipynb\" target=\"_parent\"><img src=\"https://colab.research.google.com/assets/colab-badge.svg\" alt=\"Open In Colab\"/></a>"
      ]
    },
    {
      "cell_type": "code",
      "metadata": {
        "id": "gLPMLLtmkuzd",
        "colab": {
          "base_uri": "https://localhost:8080/"
        },
        "outputId": "bf79ac53-ab2c-401c-aa42-db066dfa471e"
      },
      "source": [
        "!pip install tweepy\n",
        "!pip install textblob\n",
        "!pip install preprocessor\n",
        "!pip install statistics"
      ],
      "execution_count": null,
      "outputs": [
        {
          "output_type": "stream",
          "text": [
            "Requirement already satisfied: tweepy in /usr/local/lib/python3.7/dist-packages (3.10.0)\n",
            "Requirement already satisfied: requests[socks]>=2.11.1 in /usr/local/lib/python3.7/dist-packages (from tweepy) (2.23.0)\n",
            "Requirement already satisfied: six>=1.10.0 in /usr/local/lib/python3.7/dist-packages (from tweepy) (1.15.0)\n",
            "Requirement already satisfied: requests-oauthlib>=0.7.0 in /usr/local/lib/python3.7/dist-packages (from tweepy) (1.3.0)\n",
            "Requirement already satisfied: certifi>=2017.4.17 in /usr/local/lib/python3.7/dist-packages (from requests[socks]>=2.11.1->tweepy) (2020.12.5)\n",
            "Requirement already satisfied: urllib3!=1.25.0,!=1.25.1,<1.26,>=1.21.1 in /usr/local/lib/python3.7/dist-packages (from requests[socks]>=2.11.1->tweepy) (1.24.3)\n",
            "Requirement already satisfied: chardet<4,>=3.0.2 in /usr/local/lib/python3.7/dist-packages (from requests[socks]>=2.11.1->tweepy) (3.0.4)\n",
            "Requirement already satisfied: idna<3,>=2.5 in /usr/local/lib/python3.7/dist-packages (from requests[socks]>=2.11.1->tweepy) (2.10)\n",
            "Requirement already satisfied: PySocks!=1.5.7,>=1.5.6; extra == \"socks\" in /usr/local/lib/python3.7/dist-packages (from requests[socks]>=2.11.1->tweepy) (1.7.1)\n",
            "Requirement already satisfied: oauthlib>=3.0.0 in /usr/local/lib/python3.7/dist-packages (from requests-oauthlib>=0.7.0->tweepy) (3.1.0)\n",
            "Requirement already satisfied: textblob in /usr/local/lib/python3.7/dist-packages (0.15.3)\n",
            "Requirement already satisfied: nltk>=3.1 in /usr/local/lib/python3.7/dist-packages (from textblob) (3.2.5)\n",
            "Requirement already satisfied: six in /usr/local/lib/python3.7/dist-packages (from nltk>=3.1->textblob) (1.15.0)\n",
            "Collecting preprocessor\n",
            "  Downloading https://files.pythonhosted.org/packages/96/ad/d9f4ffb9bb97d1cb5bcb876b7932571d4dbaa3eff1701ad45d367f0ea27b/preprocessor-1.1.3.tar.gz\n",
            "Building wheels for collected packages: preprocessor\n",
            "  Building wheel for preprocessor (setup.py) ... \u001b[?25l\u001b[?25hdone\n",
            "  Created wheel for preprocessor: filename=preprocessor-1.1.3-cp37-none-any.whl size=4477 sha256=0b56d4e19327c449a2b469bdb000f43f34666108b44760b9043f8e27df844fe1\n",
            "  Stored in directory: /root/.cache/pip/wheels/98/c1/a2/21fbcfd80d76576bbf148991a66f00730f541f265c7600000f\n",
            "Successfully built preprocessor\n",
            "Installing collected packages: preprocessor\n",
            "Successfully installed preprocessor-1.1.3\n",
            "Collecting statistics\n",
            "  Downloading https://files.pythonhosted.org/packages/bb/3a/ae99a15e65636559d936dd2159d75af1619491e8cb770859fbc8aa62cef6/statistics-1.0.3.5.tar.gz\n",
            "Requirement already satisfied: docutils>=0.3 in /usr/local/lib/python3.7/dist-packages (from statistics) (0.16)\n",
            "Building wheels for collected packages: statistics\n",
            "  Building wheel for statistics (setup.py) ... \u001b[?25l\u001b[?25hdone\n",
            "  Created wheel for statistics: filename=statistics-1.0.3.5-cp37-none-any.whl size=7454 sha256=818b7857cc7be76180a6faad7829d76c581dbf2dc0bc913236d480cb74311a06\n",
            "  Stored in directory: /root/.cache/pip/wheels/75/55/90/73aa7662bfb4565b567618547a275f01372a678ca92ecd64f3\n",
            "Successfully built statistics\n",
            "Installing collected packages: statistics\n",
            "Successfully installed statistics-1.0.3.5\n"
          ],
          "name": "stdout"
        }
      ]
    },
    {
      "cell_type": "code",
      "metadata": {
        "id": "HpslASsTTU1A"
      },
      "source": [
        "import tweepy as tw\n",
        "import textblob\n",
        "import preprocessor\n",
        "import statistics\n",
        "import numpy as np\n",
        "import pandas as pd\n",
        "from typing import List"
      ],
      "execution_count": null,
      "outputs": []
    },
    {
      "cell_type": "code",
      "metadata": {
        "id": "htFP12RcT-Od",
        "colab": {
          "base_uri": "https://localhost:8080/"
        },
        "outputId": "b7cb7521-5575-4408-dc6a-f3befc07360b"
      },
      "source": [
        "api_key = \"zs1VrItXow1kXKZhNtnbn8OQD\"\n",
        "api_secret_key = \"CW47HJK9SnYjJTNVsMMdCfyjK0x3N8hKFTAXCSaTbpmqBMMMMI\"\n",
        "access_token = \"1206982141172764672-3hFfVWIWYzz8dEuJnGnszPdhGY5FEE\"\n",
        "access_token_secret = \"X7IXHwBdXKAix3BdmlZ9mhWSxXfB9OPFQwGstT7dSIMaa\"\n",
        "Bearer_token: \"AAAAAAAAAAAAAAAAAAAAAMYGNwEAAAAAOcxExg4tCZGNHJ9tiUlvK3FsM58%3DOPbPEUBUDSag04nkiHSf8JWAdts7qkC34GUgeFNKrRXDk2MDMn\"\n",
        "\n",
        "auth = tw.OAuthHandler(api_key, api_secret_key)\n",
        "auth.set_access_token(access_token, access_token_secret)\n",
        "api = tw.API(auth, wait_on_rate_limit=True)\n",
        "\n",
        "try:\n",
        "    api.verify_credentials()\n",
        "    print(\"Authentication OK\")\n",
        "except:\n",
        "    print(\"Error during authentication\")"
      ],
      "execution_count": null,
      "outputs": [
        {
          "output_type": "stream",
          "text": [
            "Authentication OK\n"
          ],
          "name": "stdout"
        }
      ]
    },
    {
      "cell_type": "code",
      "metadata": {
        "colab": {
          "base_uri": "https://localhost:8080/"
        },
        "id": "6Z-zPD78YJiK",
        "outputId": "d88ce76b-258f-454c-f90c-7969dced41b9"
      },
      "source": [
        "def get_tweets(keyword: str)->List[str]:\n",
        "  all_tweets = []\n",
        "  for tweet in tw.Cursor(api.search, q = keyword, tweet_mode = 'extended',lang='en').items(10):\n",
        "    all_tweets.append(tweet.full_text)\n",
        "\n",
        "  return all_tweets\n",
        "\n",
        "def cleaning_tweets(all_tweets:List[str])->List[str]:\n",
        "  clean_tweets=[]\n",
        "  for tweet in all_tweets:\n",
        "    clean_tweets.append(p.clean(tweet))\n",
        "\n",
        "  return clean_tweets\n",
        "\n",
        "keywords = [\"covid\",\"coronavirus\",\"covid19\"]\n",
        "get_tweets(keywords)\n"
      ],
      "execution_count": null,
      "outputs": [
        {
          "output_type": "execute_result",
          "data": {
            "text/plain": [
              "['Updated: @KFF brief on global funding across the six #COVID19 emergency supplemental bills. \\n\\nThe most recent bill, the American Rescue Plan Act, includes the most funding for the global response to date.\\n\\nhttps://t.co/tzVn2TjG8O',\n",
              " 'RT @ROWPublicHealth: Keep practicing public health measures. COVID-19 spreads easily between loved ones and friends, those with whom we may…',\n",
              " \"Better late than never! SMH\\n\\nCDC's new school distancing guidelines say 3 feet apart is often enough\\n\\nhttps://t.co/uhHSlW4eUe  #coronavirus #COVID19 #vaccines #schoolreopening\",\n",
              " 'Swift claims settlement is key to rebuilding Covid-hit reputation says legal alliance @gilawconnect\\n\\nhttps://t.co/IF7nlKppXC\\n\\n#insurance #pandemic #coronavirus #covid19 #claims #claimspayouts #businessinterruption #reputation',\n",
              " 'RT @CPHO_Canada: Today’s #COVID19 in 🇨🇦 info and updates:\\n➡️#GOC website on #coronavirus disease: \\nhttps://t.co/8kWHvr0h7S\\n➡️Canada COVID-1…',\n",
              " 'The @WMO has warned that #weather &amp; #climate conditions, including the current onset of warmer temperatures in the northern hemisphere, should not be used as a trigger to relax measures to halt the spread of the #coronavirus.😷\\n\\n↪️https://t.co/DPBD017k0Q\\n\\n#COVID19 #COVID #spring https://t.co/LY5xTYdsnU',\n",
              " 'RT @joannachiu: Chinese Canadians have launched a website they hope can help track and flatten the curve of anti-Asian racism during the co…',\n",
              " 'RT @KansasCounties: KDHE #COVID19 UPDATE for Friday, March 19: 299,510 Confirmed Positive Test Results (up 606 since March 17), 4,842 Total…',\n",
              " 'RT @_ShoeGene: #Covid19\\nOver 3,000 positive cases this week.\\n\\nhttps://t.co/cJggujPiAL',\n",
              " 'RT @AmerMedicalAssn: While the #COVID19 pandemic has spurred rapid global cooperation for #vaccine research and distribution, it has been l…']"
            ]
          },
          "metadata": {
            "tags": []
          },
          "execution_count": 13
        }
      ]
    }
  ]
}