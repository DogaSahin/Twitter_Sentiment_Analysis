{
  "nbformat": 4,
  "nbformat_minor": 0,
  "metadata": {
    "colab": {
      "name": "Main.ipynb",
      "provenance": [],
      "toc_visible": true,
      "authorship_tag": "ABX9TyNGj7/Fv9cSYfSYAWjyiYM2",
      "include_colab_link": true
    },
    "kernelspec": {
      "name": "python3",
      "display_name": "Python 3"
    }
  },
  "cells": [
    {
      "cell_type": "markdown",
      "metadata": {
        "id": "view-in-github",
        "colab_type": "text"
      },
      "source": [
        "<a href=\"https://colab.research.google.com/github/DogaSahin/Twitter_Sentiment_Analysis/blob/main/Main.ipynb\" target=\"_parent\"><img src=\"https://colab.research.google.com/assets/colab-badge.svg\" alt=\"Open In Colab\"/></a>"
      ]
    },
    {
      "cell_type": "markdown",
      "metadata": {
        "id": "dhorl27WQmwS"
      },
      "source": [
        "# Training Model & Preparing a proper train/test dataset"
      ]
    },
    {
      "cell_type": "code",
      "metadata": {
        "id": "n62QZUVBApZc"
      },
      "source": [
        "!pip install -q kaggle\n",
        "from google.colab import files\n",
        "files.upload()"
      ],
      "execution_count": null,
      "outputs": []
    },
    {
      "cell_type": "code",
      "metadata": {
        "id": "6hzkcukQBXvG"
      },
      "source": [
        "! mkdir ~/.kaggle\n",
        "! cp kaggle.json ~/.kaggle/\n",
        "! chmod 600 ~/.kaggle/kaggle.json\n",
        "! kaggle datasets list"
      ],
      "execution_count": null,
      "outputs": []
    },
    {
      "cell_type": "code",
      "metadata": {
        "id": "kO7-BpGYY4-g"
      },
      "source": [
        "!kaggle datasets download -d kazanova/sentiment140\n",
        "! unzip sentiment140.zip -d sample_data"
      ],
      "execution_count": null,
      "outputs": []
    },
    {
      "cell_type": "markdown",
      "metadata": {
        "id": "vx4CCPwoQ1Zs"
      },
      "source": [
        "Importing necesary libraries"
      ]
    },
    {
      "cell_type": "code",
      "metadata": {
        "id": "SHAw4aT9XNPQ"
      },
      "source": [
        "!pip install nltk\n"
      ],
      "execution_count": null,
      "outputs": []
    },
    {
      "cell_type": "code",
      "metadata": {
        "id": "Qrp4SVxpwfpO"
      },
      "source": [
        "# for data preprocessing\n",
        "from sklearn.model_selection import train_test_split\n",
        "from mlxtend.plotting import plot_confusion_matrix\n",
        "from sklearn.metrics import confusion_matrix\n",
        "from sklearn.metrics import roc_auc_score\n",
        "from sklearn.metrics import auc\n",
        "from sklearn.metrics import roc_curve\n",
        "import matplotlib.pyplot as plt\n",
        "import seaborn as sns\n",
        "import pandas as pd \n",
        "import numpy as np \n",
        "\n",
        "# data clearing\n",
        "import nltk\n",
        "from nltk.corpus import stopwords\n",
        "from nltk.stem import PorterStemmer \n",
        "from matplotlib import rcParams\n",
        "from collections import Counter\n",
        "from nltk.tokenize import RegexpTokenizer\n",
        "import re\n",
        "import string\n",
        "\n",
        "# Tensorlow Libraries\n",
        "from tensorflow.keras.preprocessing.text import Tokenizer\n",
        "from tensorflow.keras.preprocessing import sequence\n",
        "from keras.layers import Embedding\n",
        "from tensorflow.keras import layers\n",
        "from tensorflow.keras import Input\n",
        "from keras.models import Sequential\n",
        "from keras.layers import Dense\n",
        "from keras.layers import LSTM\n",
        "from keras.layers import Dropout\n",
        "from tensorflow import keras\n",
        "from keras.layers import LSTM\n",
        "from keras.layers import Activation\n",
        "from keras.models import Model\n",
        "from keras.optimizers import RMSprop\n",
        "import warnings\n",
        "warnings.filterwarnings(\"ignore\")"
      ],
      "execution_count": 60,
      "outputs": []
    },
    {
      "cell_type": "code",
      "metadata": {
        "id": "b-EfI7qIieGs"
      },
      "source": [
        "nltk.download('wordnet')"
      ],
      "execution_count": null,
      "outputs": []
    },
    {
      "cell_type": "markdown",
      "metadata": {
        "id": "N76MABuDQ4zy"
      },
      "source": [
        "Getting a labeled data"
      ]
    },
    {
      "cell_type": "code",
      "metadata": {
        "id": "mnNSV_Sx4ZN-",
        "colab": {
          "base_uri": "https://localhost:8080/",
          "height": 195
        },
        "outputId": "c99ad23a-12be-47a3-e855-4b8c3a7dc3ee"
      },
      "source": [
        "data = pd.read_csv(\"sample_data/training.1600000.processed.noemoticon.csv\", encoding = \"ISO-8859-1\", engine=\"python\")\n",
        "data.columns = [\"label\", \"time\", \"date\", \"query\", \"username\", \"text\"]\n",
        "data.head()\n"
      ],
      "execution_count": 7,
      "outputs": [
        {
          "output_type": "execute_result",
          "data": {
            "text/html": [
              "<div>\n",
              "<style scoped>\n",
              "    .dataframe tbody tr th:only-of-type {\n",
              "        vertical-align: middle;\n",
              "    }\n",
              "\n",
              "    .dataframe tbody tr th {\n",
              "        vertical-align: top;\n",
              "    }\n",
              "\n",
              "    .dataframe thead th {\n",
              "        text-align: right;\n",
              "    }\n",
              "</style>\n",
              "<table border=\"1\" class=\"dataframe\">\n",
              "  <thead>\n",
              "    <tr style=\"text-align: right;\">\n",
              "      <th></th>\n",
              "      <th>label</th>\n",
              "      <th>time</th>\n",
              "      <th>date</th>\n",
              "      <th>query</th>\n",
              "      <th>username</th>\n",
              "      <th>text</th>\n",
              "    </tr>\n",
              "  </thead>\n",
              "  <tbody>\n",
              "    <tr>\n",
              "      <th>0</th>\n",
              "      <td>0</td>\n",
              "      <td>1467810672</td>\n",
              "      <td>Mon Apr 06 22:19:49 PDT 2009</td>\n",
              "      <td>NO_QUERY</td>\n",
              "      <td>scotthamilton</td>\n",
              "      <td>is upset that he can't update his Facebook by ...</td>\n",
              "    </tr>\n",
              "    <tr>\n",
              "      <th>1</th>\n",
              "      <td>0</td>\n",
              "      <td>1467810917</td>\n",
              "      <td>Mon Apr 06 22:19:53 PDT 2009</td>\n",
              "      <td>NO_QUERY</td>\n",
              "      <td>mattycus</td>\n",
              "      <td>@Kenichan I dived many times for the ball. Man...</td>\n",
              "    </tr>\n",
              "    <tr>\n",
              "      <th>2</th>\n",
              "      <td>0</td>\n",
              "      <td>1467811184</td>\n",
              "      <td>Mon Apr 06 22:19:57 PDT 2009</td>\n",
              "      <td>NO_QUERY</td>\n",
              "      <td>ElleCTF</td>\n",
              "      <td>my whole body feels itchy and like its on fire</td>\n",
              "    </tr>\n",
              "    <tr>\n",
              "      <th>3</th>\n",
              "      <td>0</td>\n",
              "      <td>1467811193</td>\n",
              "      <td>Mon Apr 06 22:19:57 PDT 2009</td>\n",
              "      <td>NO_QUERY</td>\n",
              "      <td>Karoli</td>\n",
              "      <td>@nationwideclass no, it's not behaving at all....</td>\n",
              "    </tr>\n",
              "    <tr>\n",
              "      <th>4</th>\n",
              "      <td>0</td>\n",
              "      <td>1467811372</td>\n",
              "      <td>Mon Apr 06 22:20:00 PDT 2009</td>\n",
              "      <td>NO_QUERY</td>\n",
              "      <td>joy_wolf</td>\n",
              "      <td>@Kwesidei not the whole crew</td>\n",
              "    </tr>\n",
              "  </tbody>\n",
              "</table>\n",
              "</div>"
            ],
            "text/plain": [
              "   label  ...                                               text\n",
              "0      0  ...  is upset that he can't update his Facebook by ...\n",
              "1      0  ...  @Kenichan I dived many times for the ball. Man...\n",
              "2      0  ...    my whole body feels itchy and like its on fire \n",
              "3      0  ...  @nationwideclass no, it's not behaving at all....\n",
              "4      0  ...                      @Kwesidei not the whole crew \n",
              "\n",
              "[5 rows x 6 columns]"
            ]
          },
          "metadata": {
            "tags": []
          },
          "execution_count": 7
        }
      ]
    },
    {
      "cell_type": "code",
      "metadata": {
        "id": "dL03GC7b4tQt",
        "colab": {
          "base_uri": "https://localhost:8080/"
        },
        "outputId": "008eeddb-eee0-417a-a183-99c03a785a87"
      },
      "source": [
        "data.columns\n",
        "print(len(data))\n",
        "data.shape\n",
        "data.info()\n",
        "data.dtypes\n"
      ],
      "execution_count": 8,
      "outputs": [
        {
          "output_type": "stream",
          "text": [
            "1599999\n",
            "<class 'pandas.core.frame.DataFrame'>\n",
            "RangeIndex: 1599999 entries, 0 to 1599998\n",
            "Data columns (total 6 columns):\n",
            " #   Column    Non-Null Count    Dtype \n",
            "---  ------    --------------    ----- \n",
            " 0   label     1599999 non-null  int64 \n",
            " 1   time      1599999 non-null  int64 \n",
            " 2   date      1599999 non-null  object\n",
            " 3   query     1599999 non-null  object\n",
            " 4   username  1599999 non-null  object\n",
            " 5   text      1599999 non-null  object\n",
            "dtypes: int64(2), object(4)\n",
            "memory usage: 73.2+ MB\n"
          ],
          "name": "stdout"
        },
        {
          "output_type": "execute_result",
          "data": {
            "text/plain": [
              "label        int64\n",
              "time         int64\n",
              "date        object\n",
              "query       object\n",
              "username    object\n",
              "text        object\n",
              "dtype: object"
            ]
          },
          "metadata": {
            "tags": []
          },
          "execution_count": 8
        }
      ]
    },
    {
      "cell_type": "markdown",
      "metadata": {
        "id": "mMeLYXUJP8A0"
      },
      "source": [
        "Making a more meaningfull dataset"
      ]
    },
    {
      "cell_type": "code",
      "metadata": {
        "id": "F8C8lKYC5JFV",
        "colab": {
          "base_uri": "https://localhost:8080/",
          "height": 195
        },
        "outputId": "a2205137-d9a6-46f7-c7dc-8cb061449118"
      },
      "source": [
        "# Selecting the text and label coloumn Assigning 1 to Positive sentment 4\n",
        "\n",
        "data=data[['text','label']]\n",
        "data['label'][data['label']==4]=1\n",
        "\n",
        "# Separating positive and negative tweets\n",
        "positive_data = data[data['label'] == 1]\n",
        "negative_data = data[data['label'] == 0]\n",
        "\n",
        "# taking half of the dataset for try\n",
        "positive_data = positive_data.iloc[:int(80000)]\n",
        "negative_data = negative_data.iloc[:int(80000)]\n",
        "\n",
        "# Combining positive and negative tweets & making all tweets lowercase so we can work better\n",
        "data = pd.concat([positive_data, negative_data])\n",
        "data['text']=data['text'].str.lower()\n",
        "\n",
        "data['text'].head()\n",
        "data.tail()"
      ],
      "execution_count": 9,
      "outputs": [
        {
          "output_type": "execute_result",
          "data": {
            "text/html": [
              "<div>\n",
              "<style scoped>\n",
              "    .dataframe tbody tr th:only-of-type {\n",
              "        vertical-align: middle;\n",
              "    }\n",
              "\n",
              "    .dataframe tbody tr th {\n",
              "        vertical-align: top;\n",
              "    }\n",
              "\n",
              "    .dataframe thead th {\n",
              "        text-align: right;\n",
              "    }\n",
              "</style>\n",
              "<table border=\"1\" class=\"dataframe\">\n",
              "  <thead>\n",
              "    <tr style=\"text-align: right;\">\n",
              "      <th></th>\n",
              "      <th>text</th>\n",
              "      <th>label</th>\n",
              "    </tr>\n",
              "  </thead>\n",
              "  <tbody>\n",
              "    <tr>\n",
              "      <th>79995</th>\n",
              "      <td>@itsaroy they hurt my feelings when they don't...</td>\n",
              "      <td>0</td>\n",
              "    </tr>\n",
              "    <tr>\n",
              "      <th>79996</th>\n",
              "      <td>excited that josh will be back in erie in an h...</td>\n",
              "      <td>0</td>\n",
              "    </tr>\n",
              "    <tr>\n",
              "      <th>79997</th>\n",
              "      <td>plans of going to the club have been dashed. n...</td>\n",
              "      <td>0</td>\n",
              "    </tr>\n",
              "    <tr>\n",
              "      <th>79998</th>\n",
              "      <td>i hate car washing</td>\n",
              "      <td>0</td>\n",
              "    </tr>\n",
              "    <tr>\n",
              "      <th>79999</th>\n",
              "      <td>cannot actually keep my eyes open.., i feel li...</td>\n",
              "      <td>0</td>\n",
              "    </tr>\n",
              "  </tbody>\n",
              "</table>\n",
              "</div>"
            ],
            "text/plain": [
              "                                                    text  label\n",
              "79995  @itsaroy they hurt my feelings when they don't...      0\n",
              "79996  excited that josh will be back in erie in an h...      0\n",
              "79997  plans of going to the club have been dashed. n...      0\n",
              "79998                                i hate car washing       0\n",
              "79999  cannot actually keep my eyes open.., i feel li...      0"
            ]
          },
          "metadata": {
            "tags": []
          },
          "execution_count": 9
        }
      ]
    },
    {
      "cell_type": "markdown",
      "metadata": {
        "id": "pgRfQNIrRC0r"
      },
      "source": [
        "Cleaning and removing punctuations\n"
      ]
    },
    {
      "cell_type": "code",
      "metadata": {
        "colab": {
          "base_uri": "https://localhost:8080/"
        },
        "id": "G9LT3HheREq5",
        "outputId": "3a71ce4f-c804-4294-ed7a-02fa2be03356"
      },
      "source": [
        "english_punctuations = string.punctuation\n",
        "punctuations_list = english_punctuations\n",
        "def cleaning_punctuations(text):\n",
        "    translator = str.maketrans('', '', punctuations_list)\n",
        "    return text.translate(translator)\n",
        "data['text']= data['text'].apply(lambda x: cleaning_punctuations(x))\n",
        "data['text'].head()"
      ],
      "execution_count": 10,
      "outputs": [
        {
          "output_type": "execute_result",
          "data": {
            "text/plain": [
              "799999            i love health4uandpets u guys r the best \n",
              "800000    im meeting up with one of my besties tonight c...\n",
              "800001    darealsunisakim thanks for the twitter add sun...\n",
              "800002    being sick can be really cheap when it hurts t...\n",
              "800003       lovesbrooklyn2 he has that effect on everyone \n",
              "Name: text, dtype: object"
            ]
          },
          "metadata": {
            "tags": []
          },
          "execution_count": 10
        }
      ]
    },
    {
      "cell_type": "markdown",
      "metadata": {
        "id": "lgpfl4WZSLX6"
      },
      "source": [
        "Removing email & URL's\n"
      ]
    },
    {
      "cell_type": "code",
      "metadata": {
        "colab": {
          "base_uri": "https://localhost:8080/"
        },
        "id": "3LrEUMXXSQiF",
        "outputId": "aa38c823-e7b5-4e17-b00b-b2f5443a2189"
      },
      "source": [
        "def cleaning_email(data):\n",
        "    return re.sub('@[^\\s]+', ' ', data)\n",
        "\n",
        "data['text']= data['text'].apply(lambda x: cleaning_email(x))\n",
        "\n",
        "def cleaning_URLs(data):\n",
        "    return re.sub('((www\\.[^\\s]+)|(https?://[^\\s]+))',' ',data)\n",
        "\n",
        "data['text'] = data['text'].apply(lambda x: cleaning_URLs(x))\n",
        "data['text'].head()"
      ],
      "execution_count": 11,
      "outputs": [
        {
          "output_type": "execute_result",
          "data": {
            "text/plain": [
              "799999            i love health4uandpets u guys r the best \n",
              "800000    im meeting up with one of my besties tonight c...\n",
              "800001    darealsunisakim thanks for the twitter add sun...\n",
              "800002    being sick can be really cheap when it hurts t...\n",
              "800003       lovesbrooklyn2 he has that effect on everyone \n",
              "Name: text, dtype: object"
            ]
          },
          "metadata": {
            "tags": []
          },
          "execution_count": 11
        }
      ]
    },
    {
      "cell_type": "markdown",
      "metadata": {
        "id": "cersTlNOTK4d"
      },
      "source": [
        "Cleaning and removing Numeric numbers"
      ]
    },
    {
      "cell_type": "code",
      "metadata": {
        "colab": {
          "base_uri": "https://localhost:8080/"
        },
        "id": "Fzys2jenTLsG",
        "outputId": "115f886c-5021-44f2-fc06-080a26ef1350"
      },
      "source": [
        "def cleaning_numbers(data):\n",
        "    return re.sub('[0-9]+', '', data)\n",
        "\n",
        "data['text'] = data['text'].apply(lambda x: cleaning_numbers(x))\n",
        "data['text'].head()"
      ],
      "execution_count": 12,
      "outputs": [
        {
          "output_type": "execute_result",
          "data": {
            "text/plain": [
              "799999             i love healthuandpets u guys r the best \n",
              "800000    im meeting up with one of my besties tonight c...\n",
              "800001    darealsunisakim thanks for the twitter add sun...\n",
              "800002    being sick can be really cheap when it hurts t...\n",
              "800003        lovesbrooklyn he has that effect on everyone \n",
              "Name: text, dtype: object"
            ]
          },
          "metadata": {
            "tags": []
          },
          "execution_count": 12
        }
      ]
    },
    {
      "cell_type": "markdown",
      "metadata": {
        "id": "goif66ynQIfN"
      },
      "source": [
        "Cleaning stopwords from the dataset"
      ]
    },
    {
      "cell_type": "code",
      "metadata": {
        "colab": {
          "base_uri": "https://localhost:8080/"
        },
        "id": "lgIp8n91U3dR",
        "outputId": "ac456207-9bf9-4151-8f21-829f3d78b07e"
      },
      "source": [
        "nltk.download('stopwords')\n",
        "stop_words = set(stopwords.words('english'))\n",
        "print(stop_words)"
      ],
      "execution_count": 13,
      "outputs": [
        {
          "output_type": "stream",
          "text": [
            "[nltk_data] Downloading package stopwords to /root/nltk_data...\n",
            "[nltk_data]   Unzipping corpora/stopwords.zip.\n",
            "{'me', 'so', 'our', 'during', \"isn't\", 'because', 'had', \"shan't\", 'just', 'his', 'himself', 'that', 'no', 'wouldn', 'myself', 'shouldn', 'we', 'is', 'not', 'wasn', 'from', \"it's\", 'being', 'off', 'any', 'in', 'where', 'other', 'or', \"weren't\", 'hasn', 'there', 'same', 'than', 'll', 'she', 'as', 'these', 'few', 'but', 'aren', 'they', \"hasn't\", 'my', 'why', \"you've\", 'until', 'its', 'to', 'd', 'didn', 'doesn', 'having', 'been', 'very', \"don't\", 'between', 'over', 'such', \"won't\", 'if', 'you', 'out', 'haven', \"wasn't\", \"doesn't\", 'mightn', 'further', 'down', 'only', 'which', 'him', 'when', 'most', 'yours', 'this', 'and', 't', \"should've\", \"didn't\", 'should', 'a', 'her', 'own', 'hadn', 'o', 'won', \"haven't\", 'ours', 'their', 'whom', 'was', 're', \"she's\", 'all', 'can', \"that'll\", 'theirs', \"you're\", 'both', 'weren', 'some', 'don', 'yourself', 'ain', \"mightn't\", 'nor', 'more', 'yourselves', 'against', 'while', 'has', 'does', \"needn't\", 'after', 'on', 'an', 'those', 'below', 'at', 'again', 'ma', \"mustn't\", 'before', 'once', 'couldn', 'mustn', 'shan', \"wouldn't\", 'will', 'too', 'the', 'of', \"aren't\", 'hers', 'how', 'be', 'into', 'itself', 'by', 'doing', 'through', 'up', 'ourselves', 'y', 'have', 'with', 'them', 'm', 'he', \"hadn't\", 'about', \"you'd\", 'here', 'were', 'above', 'it', \"shouldn't\", 'under', 's', 'now', 'themselves', 'did', 'each', 'for', 'herself', 'do', 'your', 've', 'then', 'what', 'i', 'who', 'are', 'isn', \"couldn't\", 'needn', \"you'll\", 'am'}\n"
          ],
          "name": "stdout"
        }
      ]
    },
    {
      "cell_type": "code",
      "metadata": {
        "colab": {
          "base_uri": "https://localhost:8080/"
        },
        "id": "gQWmixcYP6Ii",
        "outputId": "11ff42ae-1361-4c69-a25a-52c06a485d0b"
      },
      "source": [
        "def cleaning_stopwords(text):\n",
        "    return \" \".join([word for word in str(text).split() if word not in stop_words])\n",
        "data['text'] = data['text'].apply(lambda text: cleaning_stopwords(text))\n",
        "data['text'].head()"
      ],
      "execution_count": 14,
      "outputs": [
        {
          "output_type": "execute_result",
          "data": {
            "text/plain": [
              "799999                    love healthuandpets u guys r best\n",
              "800000    im meeting one besties tonight cant wait girl ...\n",
              "800001    darealsunisakim thanks twitter add sunisa got ...\n",
              "800002    sick really cheap hurts much eat real food plu...\n",
              "800003                        lovesbrooklyn effect everyone\n",
              "Name: text, dtype: object"
            ]
          },
          "metadata": {
            "tags": []
          },
          "execution_count": 14
        }
      ]
    },
    {
      "cell_type": "markdown",
      "metadata": {
        "id": "uDhzhCg3aY6V"
      },
      "source": [
        "tokenization of tweet"
      ]
    },
    {
      "cell_type": "code",
      "metadata": {
        "colab": {
          "base_uri": "https://localhost:8080/"
        },
        "id": "70Xw1WE2aZ9H",
        "outputId": "6daec6a4-175f-419a-af93-f3c1a8964d4e"
      },
      "source": [
        "tokenizer = RegexpTokenizer(r'\\w+')\n",
        "data['text'] = data['text'].apply(tokenizer.tokenize)\n",
        "data['text'].head()"
      ],
      "execution_count": 15,
      "outputs": [
        {
          "output_type": "execute_result",
          "data": {
            "text/plain": [
              "799999             [love, healthuandpets, u, guys, r, best]\n",
              "800000    [im, meeting, one, besties, tonight, cant, wai...\n",
              "800001    [darealsunisakim, thanks, twitter, add, sunisa...\n",
              "800002    [sick, really, cheap, hurts, much, eat, real, ...\n",
              "800003                    [lovesbrooklyn, effect, everyone]\n",
              "Name: text, dtype: object"
            ]
          },
          "metadata": {
            "tags": []
          },
          "execution_count": 15
        }
      ]
    },
    {
      "cell_type": "markdown",
      "metadata": {
        "id": "RXLpadr4aebU"
      },
      "source": [
        "Stemming"
      ]
    },
    {
      "cell_type": "code",
      "metadata": {
        "colab": {
          "base_uri": "https://localhost:8080/"
        },
        "id": "dIFhcOGcafKa",
        "outputId": "3d8ceadd-7db2-4b6d-82ce-bd72c984db81"
      },
      "source": [
        "st = nltk.PorterStemmer()\n",
        "def stemming_on_text(data):\n",
        "    text = [st.stem(word) for word in data]\n",
        "    return data\n",
        "\n",
        "data['text']= data['text'].apply(lambda x: stemming_on_text(x))\n",
        "data['text'].head()"
      ],
      "execution_count": 16,
      "outputs": [
        {
          "output_type": "execute_result",
          "data": {
            "text/plain": [
              "799999             [love, healthuandpets, u, guys, r, best]\n",
              "800000    [im, meeting, one, besties, tonight, cant, wai...\n",
              "800001    [darealsunisakim, thanks, twitter, add, sunisa...\n",
              "800002    [sick, really, cheap, hurts, much, eat, real, ...\n",
              "800003                    [lovesbrooklyn, effect, everyone]\n",
              "Name: text, dtype: object"
            ]
          },
          "metadata": {
            "tags": []
          },
          "execution_count": 16
        }
      ]
    },
    {
      "cell_type": "markdown",
      "metadata": {
        "id": "98bZskfPhWKP"
      },
      "source": [
        "Applying Lemmatizer"
      ]
    },
    {
      "cell_type": "code",
      "metadata": {
        "colab": {
          "base_uri": "https://localhost:8080/"
        },
        "id": "s74TZyuohW2E",
        "outputId": "f0280319-8e07-4207-ec65-920274c1a454"
      },
      "source": [
        "lm = nltk.WordNetLemmatizer()\n",
        "def lemmatizer_on_text(data):\n",
        "    text = [lm.lemmatize(word) for word in data]\n",
        "    return data\n",
        "\n",
        "data['text'] = data['text'].apply(lambda x: lemmatizer_on_text(x))\n",
        "data['text'].head()\n"
      ],
      "execution_count": 17,
      "outputs": [
        {
          "output_type": "execute_result",
          "data": {
            "text/plain": [
              "799999             [love, healthuandpets, u, guys, r, best]\n",
              "800000    [im, meeting, one, besties, tonight, cant, wai...\n",
              "800001    [darealsunisakim, thanks, twitter, add, sunisa...\n",
              "800002    [sick, really, cheap, hurts, much, eat, real, ...\n",
              "800003                    [lovesbrooklyn, effect, everyone]\n",
              "Name: text, dtype: object"
            ]
          },
          "metadata": {
            "tags": []
          },
          "execution_count": 17
        }
      ]
    },
    {
      "cell_type": "markdown",
      "metadata": {
        "id": "XjzchkR5jM6C"
      },
      "source": [
        "Data splitting and model building"
      ]
    },
    {
      "cell_type": "code",
      "metadata": {
        "colab": {
          "base_uri": "https://localhost:8080/"
        },
        "id": "cCuxcP2EjMVO",
        "outputId": "5b4fc5eb-d859-43e2-c209-cf40d20fad2d"
      },
      "source": [
        "X=data.text\n",
        "y=data.label\n",
        "\n",
        "max_len = 500\n",
        "tok = Tokenizer(num_words=2000)\n",
        "tok.fit_on_texts(X)\n",
        "sequences = tok.texts_to_sequences(X)\n",
        "sequences_matrix = sequence.pad_sequences(sequences,maxlen=max_len)\n",
        "\n",
        "print(sequences_matrix.shape)\n",
        "\n",
        "X_train, X_test, Y_train, Y_test = train_test_split(sequences_matrix, y, test_size=0.3, random_state=2)"
      ],
      "execution_count": 18,
      "outputs": [
        {
          "output_type": "stream",
          "text": [
            "(160000, 500)\n"
          ],
          "name": "stdout"
        }
      ]
    },
    {
      "cell_type": "markdown",
      "metadata": {
        "id": "WxqhEEpkBJbJ"
      },
      "source": [
        "# TENSORFLOW"
      ]
    },
    {
      "cell_type": "code",
      "metadata": {
        "id": "Hze5zlKKBMjv"
      },
      "source": [
        "def tensorflow_based_model():\n",
        "    inputs = Input(name='inputs',shape=[max_len])\n",
        "    layer = Embedding(2000,50,input_length=max_len)(inputs)\n",
        "    layer = LSTM(64)(layer)\n",
        "    layer = Dense(256,name='FC1')(layer)\n",
        "    layer = Activation('relu')(layer)\n",
        "    layer = Dropout(0.5)(layer)\n",
        "    layer = Dense(1,name='out_layer')(layer)\n",
        "    layer = Activation('sigmoid')(layer)\n",
        "    model = Model(inputs=inputs,outputs=layer) \n",
        "    return model"
      ],
      "execution_count": 32,
      "outputs": []
    },
    {
      "cell_type": "code",
      "metadata": {
        "id": "NJmC3uROyS_o",
        "colab": {
          "base_uri": "https://localhost:8080/"
        },
        "outputId": "843af25d-56b5-4e11-8a26-5ca960c26ed1"
      },
      "source": [
        "model = tensorflow_based_model() # here we are calling the function of created model\n",
        "model.compile(loss='binary_crossentropy',optimizer=RMSprop(),metrics=['accuracy'])\n",
        "history=model.fit(X_train,Y_train,batch_size=80,epochs=6, validation_split=0.1)# here we are starting the training of model by feeding the training data\n",
        "print('Training finished !!')\n",
        "accr1 = model.evaluate(X_test,Y_test) #we are starting to test the model here\n",
        "print('Test set\\n  Accuracy: {:0.2f}'.format(accr1[1])) #the accuracy of the model on test data is given below\n"
      ],
      "execution_count": 53,
      "outputs": [
        {
          "output_type": "stream",
          "text": [
            "Epoch 1/6\n",
            "1260/1260 [==============================] - 524s 414ms/step - loss: 0.5577 - accuracy: 0.7053 - val_loss: 0.4943 - val_accuracy: 0.7613\n",
            "Epoch 2/6\n",
            "1260/1260 [==============================] - 528s 419ms/step - loss: 0.4862 - accuracy: 0.7644 - val_loss: 0.4875 - val_accuracy: 0.7636\n",
            "Epoch 3/6\n",
            "1260/1260 [==============================] - 520s 413ms/step - loss: 0.4771 - accuracy: 0.7688 - val_loss: 0.4894 - val_accuracy: 0.7656\n",
            "Epoch 4/6\n",
            "1260/1260 [==============================] - 521s 413ms/step - loss: 0.4695 - accuracy: 0.7751 - val_loss: 0.4879 - val_accuracy: 0.7662\n",
            "Epoch 5/6\n",
            "1260/1260 [==============================] - 523s 415ms/step - loss: 0.4624 - accuracy: 0.7803 - val_loss: 0.4850 - val_accuracy: 0.7661\n",
            "Epoch 6/6\n",
            "1260/1260 [==============================] - 521s 413ms/step - loss: 0.4573 - accuracy: 0.7825 - val_loss: 0.4867 - val_accuracy: 0.7671\n",
            "Training finished !!\n",
            "1500/1500 [==============================] - 99s 66ms/step - loss: 0.4913 - accuracy: 0.7615\n",
            "Test set\n",
            "  Accuracy: 0.76\n"
          ],
          "name": "stdout"
        }
      ]
    },
    {
      "cell_type": "code",
      "metadata": {
        "colab": {
          "base_uri": "https://localhost:8080/",
          "height": 726
        },
        "id": "3CkXUZR5MRxW",
        "outputId": "6cdeebc6-6d29-4981-cafb-b00087ff0201"
      },
      "source": [
        "y_pred = model.predict(X_test) #getting predictions on the trained model\n",
        "y_pred = (y_pred > 0.5) \n",
        "print('\\n')\n",
        "print(\"confusion matrix\")\n",
        "print('\\n')\n",
        "CR=confusion_matrix(Y_test, y_pred)\n",
        "print(CR)\n",
        "print('\\n')\n",
        "\n",
        "fig, ax = plot_confusion_matrix(conf_mat=CR,figsize=(10, 10),\n",
        "                                show_absolute=True,\n",
        "                                show_normed=True,\n",
        "                                colorbar=True)\n",
        "plt.show()"
      ],
      "execution_count": 56,
      "outputs": [
        {
          "output_type": "stream",
          "text": [
            "\n",
            "\n",
            "confusion matrix\n",
            "\n",
            "\n",
            "[[18699  5339]\n",
            " [ 6107 17855]]\n",
            "\n",
            "\n"
          ],
          "name": "stdout"
        },
        {
          "output_type": "display_data",
          "data": {
            "image/png": "[encoded data removed]",
            "text/plain": [
              "<Figure size 720x720 with 2 Axes>"
            ]
          },
          "metadata": {
            "tags": [],
            "needs_background": "light"
          }
        }
      ]
    },
    {
      "cell_type": "code",
      "metadata": {
        "colab": {
          "base_uri": "https://localhost:8080/",
          "height": 295
        },
        "id": "2nRlsowsMXy5",
        "outputId": "2a2fe66f-a21b-4cf3-e5e5-e1e5f40c75e2"
      },
      "source": [
        "fpr, tpr, thresholds = roc_curve(Y_test, y_pred)\n",
        "roc_auc = auc(fpr, tpr)\n",
        "plt.figure()\n",
        "plt.plot(fpr, tpr, color='darkorange', lw=1, label='ROC curve (area = %0.2f)' % roc_auc)\n",
        "plt.xlim([0.0, 1.0])\n",
        "plt.ylim([0.0, 1.05])\n",
        "plt.xlabel('False Positive Rate')\n",
        "plt.ylabel('True Positive Rate')\n",
        "plt.title('ROC CURVE')\n",
        "plt.legend(loc=\"lower right\")\n",
        "plt.show()"
      ],
      "execution_count": 61,
      "outputs": [
        {
          "output_type": "display_data",
          "data": {
            "image/png": "[encoded data removed]",
            "text/plain": [
              "<Figure size 432x288 with 1 Axes>"
            ]
          },
          "metadata": {
            "tags": [],
            "needs_background": "light"
          }
        }
      ]
    }
  ]
}