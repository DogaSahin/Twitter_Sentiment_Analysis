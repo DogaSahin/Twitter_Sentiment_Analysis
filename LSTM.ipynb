{
  "nbformat": 4,
  "nbformat_minor": 0,
  "metadata": {
    "colab": {
      "name": "LSTM.ipynb",
      "provenance": [],
      "toc_visible": true,
      "authorship_tag": "ABX9TyMDeOkKSynpTUFbAfz3g3BY",
      "include_colab_link": true
    },
    "kernelspec": {
      "name": "python3",
      "display_name": "Python 3"
    }
  },
  "cells": [
    {
      "cell_type": "markdown",
      "metadata": {
        "id": "view-in-github",
        "colab_type": "text"
      },
      "source": [
        "<a href=\"https://colab.research.google.com/github/DogaSahin/Twitter_Sentiment_Analysis/blob/main/LSTM.ipynb\" target=\"_parent\"><img src=\"https://colab.research.google.com/assets/colab-badge.svg\" alt=\"Open In Colab\"/></a>"
      ]
    },
    {
      "cell_type": "markdown",
      "metadata": {
        "id": "dhorl27WQmwS"
      },
      "source": [
        "# Training Model & Preparing a proper train/test dataset"
      ]
    },
    {
      "cell_type": "markdown",
      "metadata": {
        "id": "_ejGAW511yeG"
      },
      "source": [
        "In this python notebook we'll get our labeled dataset and train a LSTM network for sentiment analysis and at the end we'll make classifications on the dataset we got from the Twitter."
      ]
    },
    {
      "cell_type": "markdown",
      "metadata": {
        "id": "ge0dYsc10XzI"
      },
      "source": [
        "Kaggle requirements"
      ]
    },
    {
      "cell_type": "code",
      "metadata": {
        "id": "n62QZUVBApZc"
      },
      "source": [
        "!pip install -q kaggle\n",
        "from google.colab import files\n",
        "files.upload()"
      ],
      "execution_count": null,
      "outputs": []
    },
    {
      "cell_type": "code",
      "metadata": {
        "id": "6hzkcukQBXvG"
      },
      "source": [
        "! mkdir ~/.kaggle\n",
        "! cp kaggle.json ~/.kaggle/\n",
        "! chmod 600 ~/.kaggle/kaggle.json\n",
        "!kaggle datasets download -d kazanova/sentiment140\n",
        "! unzip sentiment140.zip -d sample_data"
      ],
      "execution_count": null,
      "outputs": []
    },
    {
      "cell_type": "markdown",
      "metadata": {
        "id": "vx4CCPwoQ1Zs"
      },
      "source": [
        "Importing libraries"
      ]
    },
    {
      "cell_type": "code",
      "metadata": {
        "id": "SHAw4aT9XNPQ"
      },
      "source": [
        "!pip install nltk\n",
        "%tensorflow_version 1.x"
      ],
      "execution_count": null,
      "outputs": []
    },
    {
      "cell_type": "code",
      "metadata": {
        "id": "Qrp4SVxpwfpO"
      },
      "source": [
        "# Evaluation Metrics\n",
        "from sklearn.model_selection import train_test_split\n",
        "from mlxtend.plotting import plot_confusion_matrix\n",
        "from sklearn.metrics import confusion_matrix\n",
        "import matplotlib.pyplot as plt\n",
        "import seaborn as sns\n",
        "import pandas as pd \n",
        "import numpy as np \n",
        "\n",
        "# NLP processes\n",
        "import nltk\n",
        "from nltk.corpus import stopwords\n",
        "from nltk.stem import PorterStemmer \n",
        "from matplotlib import rcParams\n",
        "from collections import Counter\n",
        "from nltk.tokenize import RegexpTokenizer\n",
        "import re\n",
        "import string\n",
        "\n",
        "# Tensorlow Libraries\n",
        "from tensorflow import keras\n",
        "from tensorflow.keras.layers import Dense, LSTM, Dropout, Activation, Embedding\n",
        "from tensorflow.keras.preprocessing.text import Tokenizer\n",
        "from tensorflow.keras.models import load_model, Model, Sequential\n",
        "from tensorflow.keras.preprocessing import sequence\n",
        "from tensorflow.keras import layers, Input\n",
        "from tensorflow.keras.optimizers import RMSprop\n",
        "\n",
        "import warnings\n",
        "warnings.filterwarnings(\"ignore\")\n",
        "\n",
        "nltk.download('wordnet')"
      ],
      "execution_count": null,
      "outputs": []
    },
    {
      "cell_type": "markdown",
      "metadata": {
        "id": "0l75ernM1bIn"
      },
      "source": [
        "# Data Preprocessing"
      ]
    },
    {
      "cell_type": "markdown",
      "metadata": {
        "id": "N76MABuDQ4zy"
      },
      "source": [
        "Loading pre-labeled data"
      ]
    },
    {
      "cell_type": "code",
      "metadata": {
        "id": "mnNSV_Sx4ZN-"
      },
      "source": [
        "data = pd.read_csv(\"sample_data/training.1600000.processed.noemoticon.csv\", encoding = \"ISO-8859-1\", engine=\"python\")\n",
        "data.columns = [\"label\", \"time\", \"date\", \"query\", \"username\", \"text\"]\n",
        "data.head()\n"
      ],
      "execution_count": null,
      "outputs": []
    },
    {
      "cell_type": "markdown",
      "metadata": {
        "id": "mMeLYXUJP8A0"
      },
      "source": [
        "Arranging positive and negative tweets"
      ]
    },
    {
      "cell_type": "code",
      "metadata": {
        "id": "F8C8lKYC5JFV"
      },
      "source": [
        "# Selecting the text and label coloumn Assigning 1 to Positive sentment 4\n",
        "data=data[['text','label']]\n",
        "data['label'][data['label']==4]=1\n",
        "\n",
        "# Separating positive and negative tweets\n",
        "positive_data = data[data['label'] == 1]\n",
        "negative_data = data[data['label'] == 0]\n",
        "\n",
        "# taking half of the dataset\n",
        "positive_data = positive_data.iloc[:int(80000)]\n",
        "negative_data = negative_data.iloc[:int(80000)]\n",
        "\n",
        "# Combining positive and negative tweets & making all tweets lowercase so we can work better\n",
        "data = pd.concat([positive_data, negative_data])\n",
        "data['text']=data['text'].str.lower()\n",
        "\n",
        "data['text'].head()\n",
        "data.tail()"
      ],
      "execution_count": null,
      "outputs": []
    },
    {
      "cell_type": "markdown",
      "metadata": {
        "id": "pgRfQNIrRC0r"
      },
      "source": [
        "Cleaning and removing punctuations\n"
      ]
    },
    {
      "cell_type": "code",
      "metadata": {
        "id": "G9LT3HheREq5"
      },
      "source": [
        "english_punctuations = string.punctuation\n",
        "punctuations_list = english_punctuations\n",
        "def cleaning_punctuations(text):\n",
        "    translator = str.maketrans('', '', punctuations_list)\n",
        "    return text.translate(translator)\n",
        "data['text']= data['text'].apply(lambda x: cleaning_punctuations(x))\n",
        "data['text'].head()"
      ],
      "execution_count": null,
      "outputs": []
    },
    {
      "cell_type": "markdown",
      "metadata": {
        "id": "lgpfl4WZSLX6"
      },
      "source": [
        "Removing email, URL's & Numeric numbers\n"
      ]
    },
    {
      "cell_type": "code",
      "metadata": {
        "id": "3LrEUMXXSQiF"
      },
      "source": [
        "# Cleaning email's from the dataset\n",
        "def cleaning_email(data):\n",
        "    return re.sub('@[^\\s]+', ' ', data)\n",
        "\n",
        "data['text']= data['text'].apply(lambda x: cleaning_email(x))\n",
        "\n",
        "\n",
        "# Cleaning URL's from the dataset\n",
        "def cleaning_URLs(data):\n",
        "    return re.sub('((www\\.[^\\s]+)|(https?://[^\\s]+))',' ',data)\n",
        "\n",
        "data['text'] = data['text'].apply(lambda x: cleaning_URLs(x))\n",
        "\n",
        "\n",
        "\n",
        "# Cleaning numeric symbols from the dataset\n",
        "def cleaning_numbers(data):\n",
        "    return re.sub('[0-9]+', '', data)\n",
        "\n",
        "data['text'] = data['text'].apply(lambda x: cleaning_numbers(x))\n",
        "\n",
        "\n",
        "# Checking the dataset to see if it's everything okay\n",
        "data['text'].head()"
      ],
      "execution_count": null,
      "outputs": []
    },
    {
      "cell_type": "markdown",
      "metadata": {
        "id": "goif66ynQIfN"
      },
      "source": [
        "Cleaning stopwords from the dataset"
      ]
    },
    {
      "cell_type": "code",
      "metadata": {
        "id": "gQWmixcYP6Ii"
      },
      "source": [
        "nltk.download('stopwords')\n",
        "stop_words = set(stopwords.words('english'))\n",
        "\n",
        "def cleaning_stopwords(text):\n",
        "    return \" \".join([word for word in str(text).split() if word not in stop_words])\n",
        "data['text'] = data['text'].apply(lambda text: cleaning_stopwords(text))\n",
        "data['text'].head()"
      ],
      "execution_count": null,
      "outputs": []
    },
    {
      "cell_type": "markdown",
      "metadata": {
        "id": "uDhzhCg3aY6V"
      },
      "source": [
        "tokenization of tweets"
      ]
    },
    {
      "cell_type": "code",
      "metadata": {
        "id": "70Xw1WE2aZ9H"
      },
      "source": [
        "tokenizer = RegexpTokenizer(r'\\w+')\n",
        "data['text'] = data['text'].apply(tokenizer.tokenize)\n",
        "data['text'].head()"
      ],
      "execution_count": null,
      "outputs": []
    },
    {
      "cell_type": "markdown",
      "metadata": {
        "id": "RXLpadr4aebU"
      },
      "source": [
        "Stemming"
      ]
    },
    {
      "cell_type": "code",
      "metadata": {
        "id": "dIFhcOGcafKa"
      },
      "source": [
        "st = nltk.PorterStemmer()\n",
        "def stemming_on_text(data):\n",
        "    text = [st.stem(word) for word in data]\n",
        "    return data\n",
        "\n",
        "data['text']= data['text'].apply(lambda x: stemming_on_text(x))\n",
        "data['text'].head()"
      ],
      "execution_count": null,
      "outputs": []
    },
    {
      "cell_type": "markdown",
      "metadata": {
        "id": "98bZskfPhWKP"
      },
      "source": [
        "Applying Lemmatizer"
      ]
    },
    {
      "cell_type": "code",
      "metadata": {
        "id": "s74TZyuohW2E"
      },
      "source": [
        "lm = nltk.WordNetLemmatizer()\n",
        "def lemmatizer_on_text(data):\n",
        "    text = [lm.lemmatize(word) for word in data]\n",
        "    return data\n",
        "\n",
        "data['text'] = data['text'].apply(lambda x: lemmatizer_on_text(x))\n",
        "data['text'].head()\n"
      ],
      "execution_count": null,
      "outputs": []
    },
    {
      "cell_type": "markdown",
      "metadata": {
        "id": "XjzchkR5jM6C"
      },
      "source": [
        "Data splitting and model building"
      ]
    },
    {
      "cell_type": "code",
      "metadata": {
        "id": "cCuxcP2EjMVO"
      },
      "source": [
        "max_fatures = 2000\n",
        "tokenizer = Tokenizer(num_words=max_fatures, split=' ')\n",
        "tokenizer.fit_on_texts(data['text'].values)\n",
        "X = tokenizer.texts_to_sequences(data['text'].values)\n",
        "X = sequence.pad_sequences(X)\n",
        "print(X[:2])\n",
        "\n",
        "max_len = 26\n",
        "\n",
        "Y = data.label\n",
        "X_train, X_test, Y_train, Y_test = train_test_split(X,Y, test_size = 0.20, random_state = 42)"
      ],
      "execution_count": null,
      "outputs": []
    },
    {
      "cell_type": "markdown",
      "metadata": {
        "id": "WxqhEEpkBJbJ"
      },
      "source": [
        "# TENSORFLOW"
      ]
    },
    {
      "cell_type": "code",
      "metadata": {
        "id": "Hze5zlKKBMjv"
      },
      "source": [
        "def tensorflow_based_model():\n",
        "    inputs = Input(name='inputs',shape=[max_len])\n",
        "    layer = Embedding(2000,50,input_length=max_len)(inputs)\n",
        "    layer = LSTM(64)(layer)\n",
        "    layer = Dense(256,name='FC1')(layer)\n",
        "    layer = Activation('relu')(layer)\n",
        "    layer = Dropout(0.5)(layer)\n",
        "    layer = Dense(1,name='out_layer')(layer)\n",
        "    layer = Activation('sigmoid')(layer)\n",
        "    model = Model(inputs=inputs,outputs=layer) \n",
        "    return model\n"
      ],
      "execution_count": null,
      "outputs": []
    },
    {
      "cell_type": "code",
      "metadata": {
        "id": "NJmC3uROyS_o",
        "colab": {
          "base_uri": "https://localhost:8080/"
        },
        "outputId": "10544f86-f038-409e-cebb-2335d6896b12"
      },
      "source": [
        "model = tensorflow_based_model() # here we are calling the function of created model\n",
        "model.compile(loss='binary_crossentropy',optimizer=RMSprop(),metrics=['accuracy'])\n",
        "model.summary()\n",
        "history=model.fit(X_train,Y_train,batch_size=80,epochs=15, validation_split=0.1)# here we are starting the training of model by feeding the training data\n",
        "print('Training finished !!')\n",
        "accr1 = model.evaluate(X_test,Y_test) #we are starting to test the model here\n",
        "print('Test set\\n  Accuracy: {:0.2f}'.format(accr1[1])) #the accuracy of the model on test data is given below\n"
      ],
      "execution_count": null,
      "outputs": [
        {
          "output_type": "stream",
          "text": [
            "Model: \"model_1\"\n",
            "_________________________________________________________________\n",
            "Layer (type)                 Output Shape              Param #   \n",
            "=================================================================\n",
            "inputs (InputLayer)          [(None, 26)]              0         \n",
            "_________________________________________________________________\n",
            "embedding_1 (Embedding)      (None, 26, 50)            100000    \n",
            "_________________________________________________________________\n",
            "lstm_1 (LSTM)                (None, 64)                29440     \n",
            "_________________________________________________________________\n",
            "FC1 (Dense)                  (None, 256)               16640     \n",
            "_________________________________________________________________\n",
            "activation_2 (Activation)    (None, 256)               0         \n",
            "_________________________________________________________________\n",
            "dropout_1 (Dropout)          (None, 256)               0         \n",
            "_________________________________________________________________\n",
            "out_layer (Dense)            (None, 1)                 257       \n",
            "_________________________________________________________________\n",
            "activation_3 (Activation)    (None, 1)                 0         \n",
            "=================================================================\n",
            "Total params: 146,337\n",
            "Trainable params: 146,337\n",
            "Non-trainable params: 0\n",
            "_________________________________________________________________\n",
            "Train on 115200 samples, validate on 12800 samples\n",
            "Epoch 1/15\n",
            "115200/115200 [==============================] - 58s 505us/sample - loss: 0.5183 - acc: 0.7417 - val_loss: 0.4977 - val_acc: 0.7566\n",
            "Epoch 2/15\n",
            "115200/115200 [==============================] - 58s 499us/sample - loss: 0.4863 - acc: 0.7654 - val_loss: 0.4930 - val_acc: 0.7585\n",
            "Epoch 3/15\n",
            "115200/115200 [==============================] - 58s 505us/sample - loss: 0.4759 - acc: 0.7716 - val_loss: 0.4975 - val_acc: 0.7588\n",
            "Epoch 4/15\n",
            "115200/115200 [==============================] - 58s 502us/sample - loss: 0.4694 - acc: 0.7751 - val_loss: 0.4898 - val_acc: 0.7574\n",
            "Epoch 5/15\n",
            "115200/115200 [==============================] - 58s 507us/sample - loss: 0.4632 - acc: 0.7789 - val_loss: 0.4891 - val_acc: 0.7608\n",
            "Epoch 6/15\n",
            "115200/115200 [==============================] - 58s 503us/sample - loss: 0.4571 - acc: 0.7831 - val_loss: 0.4895 - val_acc: 0.7579\n",
            "Epoch 7/15\n",
            "115200/115200 [==============================] - 58s 502us/sample - loss: 0.4502 - acc: 0.7864 - val_loss: 0.4898 - val_acc: 0.7596\n",
            "Epoch 8/15\n",
            "115200/115200 [==============================] - 58s 506us/sample - loss: 0.4448 - acc: 0.7907 - val_loss: 0.4936 - val_acc: 0.7569\n",
            "Epoch 9/15\n",
            "115200/115200 [==============================] - 58s 505us/sample - loss: 0.4393 - acc: 0.7937 - val_loss: 0.5012 - val_acc: 0.7579\n",
            "Epoch 10/15\n",
            "115200/115200 [==============================] - 58s 503us/sample - loss: 0.4339 - acc: 0.7974 - val_loss: 0.4989 - val_acc: 0.7555\n",
            "Epoch 11/15\n",
            "115200/115200 [==============================] - 58s 504us/sample - loss: 0.4294 - acc: 0.7989 - val_loss: 0.4992 - val_acc: 0.7564\n",
            "Epoch 12/15\n",
            "115200/115200 [==============================] - 58s 505us/sample - loss: 0.4236 - acc: 0.8026 - val_loss: 0.5172 - val_acc: 0.7536\n",
            "Epoch 13/15\n",
            "115200/115200 [==============================] - 58s 501us/sample - loss: 0.4184 - acc: 0.8060 - val_loss: 0.5169 - val_acc: 0.7530\n",
            "Epoch 14/15\n",
            "115200/115200 [==============================] - 58s 504us/sample - loss: 0.4121 - acc: 0.8103 - val_loss: 0.5267 - val_acc: 0.7502\n",
            "Epoch 15/15\n",
            "115200/115200 [==============================] - 58s 505us/sample - loss: 0.4060 - acc: 0.8127 - val_loss: 0.5330 - val_acc: 0.7501\n",
            "Training finished !!\n",
            "32000/32000 [==============================] - 6s 188us/sample - loss: 0.5316 - acc: 0.7532\n",
            "Test set\n",
            "  Accuracy: 0.75\n"
          ],
          "name": "stdout"
        }
      ]
    },
    {
      "cell_type": "markdown",
      "metadata": {
        "id": "RMvx6Y00pTPk"
      },
      "source": [
        "Confusion Matrix"
      ]
    },
    {
      "cell_type": "code",
      "metadata": {
        "colab": {
          "base_uri": "https://localhost:8080/",
          "height": 726
        },
        "id": "3CkXUZR5MRxW",
        "outputId": "49d49ef8-f28c-4390-a991-ca6128487b66"
      },
      "source": [
        "y_pred = model.predict(X_test) \n",
        "y_pred = (y_pred > 0.5) \n",
        "print('\\n')\n",
        "print(\"confusion matrix\")\n",
        "print('\\n')\n",
        "CR=confusion_matrix(Y_test, y_pred)\n",
        "print(CR)\n",
        "print('\\n')\n",
        "\n",
        "fig, ax = plot_confusion_matrix(conf_mat=CR,figsize=(10, 10),\n",
        "                                show_absolute=True,\n",
        "                                show_normed=True,\n",
        "                                colorbar=True)\n",
        "plt.show()"
      ],
      "execution_count": null,
      "outputs": [
        {
          "output_type": "stream",
          "text": [
            "\n",
            "\n",
            "confusion matrix\n",
            "\n",
            "\n",
            "[[11851  4275]\n",
            " [ 3613 12261]]\n",
            "\n",
            "\n"
          ],
          "name": "stdout"
        },
        {
          "output_type": "display_data",
          "data": {
            "image/png": "[encoded data removed]",
            "text/plain": [
              "<Figure size 720x720 with 2 Axes>"
            ]
          },
          "metadata": {
            "tags": [],
            "needs_background": "light"
          }
        }
      ]
    },
    {
      "cell_type": "markdown",
      "metadata": {
        "id": "DzmZfGx56W01"
      },
      "source": [
        "A quick demonstration of the algorithm to see if it's working properly"
      ]
    },
    {
      "cell_type": "code",
      "metadata": {
        "colab": {
          "base_uri": "https://localhost:8080/"
        },
        "id": "8LZ5AEd46Sn5",
        "outputId": "2974131b-3a56-4f7f-b102-6b2774a1d6c0"
      },
      "source": [
        "twt = ['covid- 19 getting worse day by day']\n",
        "\n",
        "#vectorizing the tweet by the pre-fitted tokenizer instance\n",
        "twt = tokenizer.texts_to_sequences(twt)\n",
        "print(twt)\n",
        "\n",
        "#padding the tweet to have exactly the same shape as `embedding_2` input\n",
        "twt = sequence.pad_sequences(twt, maxlen=26, dtype='int32', value=0)\n",
        "print(twt)\n",
        "\n",
        "prediction = int(model.predict(twt).round().item())\n",
        "print(prediction)"
      ],
      "execution_count": null,
      "outputs": [
        {
          "output_type": "stream",
          "text": [
            "[[52, 641, 3, 3]]\n",
            "[[  0   0   0   0   0   0   0   0   0   0   0   0   0   0   0   0   0   0\n",
            "    0   0   0   0  52 641   3   3]]\n",
            "0\n"
          ],
          "name": "stdout"
        }
      ]
    },
    {
      "cell_type": "markdown",
      "metadata": {
        "id": "XdAmwGkkkxlK"
      },
      "source": [
        "# Twitter Data Classification"
      ]
    },
    {
      "cell_type": "markdown",
      "metadata": {
        "id": "uRVx9CBD79QB"
      },
      "source": [
        "Loading the data"
      ]
    },
    {
      "cell_type": "code",
      "metadata": {
        "colab": {
          "base_uri": "https://localhost:8080/"
        },
        "id": "GABvrXOketaf",
        "outputId": "e29a1940-2020-4184-df97-0476d32ec4d4"
      },
      "source": [
        "test_data = data = pd.read_csv(\"test.csv\", encoding = \"ISO-8859-1\", engine=\"python\")\n",
        "print(data.head())"
      ],
      "execution_count": null,
      "outputs": [
        {
          "output_type": "stream",
          "text": [
            "   Unnamed: 0                                               text\n",
            "0           0  saps cops told theyÃ¢ÂÂll face attempted mur...\n",
            "1           1  come part august audience join us virtual summ...\n",
            "2           2  lgbtqi activist verge glory read httpstcobkkcf...\n",
            "3           3  vaccine progress looking progress countries kn...\n",
            "4           4  himachalpradesh new covid cases recoveries amp...\n"
          ],
          "name": "stdout"
        }
      ]
    },
    {
      "cell_type": "markdown",
      "metadata": {
        "id": "E5t_FvevpOPv"
      },
      "source": [
        "Making the predictions"
      ]
    },
    {
      "cell_type": "code",
      "metadata": {
        "id": "z-7oVk4F7xi7"
      },
      "source": [
        "X=test_data.text\n",
        "\n",
        "twt = tokenizer.texts_to_sequences(X)\n",
        "sequences = tokenizer.texts_to_sequences(X)\n",
        "sequences_matrix = sequence.pad_sequences(twt, maxlen=26, dtype='int32', value=0)\n",
        "\n",
        "y_pred = model.predict(X_test)\n",
        "\n",
        "positives = 0\n",
        "negatives = 0\n",
        "\n",
        "for omer in y_pred: # 0.5 is our threshold\n",
        "  if omer < 0.5:\n",
        "    negatives += 1\n",
        "  elif omer > 0.5:\n",
        "    positives += 1\n"
      ],
      "execution_count": null,
      "outputs": []
    },
    {
      "cell_type": "code",
      "metadata": {
        "colab": {
          "base_uri": "https://localhost:8080/",
          "height": 248
        },
        "id": "ekdeqYTR77w3",
        "outputId": "4d4fbd87-cbc5-40a7-c779-ba3241d08e05"
      },
      "source": [
        "arr = np.array([positives,negatives])\n",
        "mylabels = [\"positive\", \"negative\"]\n",
        "\n",
        "plt.pie(arr, labels = mylabels)\n",
        "plt.show() "
      ],
      "execution_count": null,
      "outputs": [
        {
          "output_type": "display_data",
          "data": {
            "image/png": "[encoded data removed]",
            "text/plain": [
              "<Figure size 432x288 with 1 Axes>"
            ]
          },
          "metadata": {
            "tags": []
          }
        }
      ]
    }
  ]
}